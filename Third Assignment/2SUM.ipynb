{
 "cells": [
  {
   "cell_type": "raw",
   "id": "51133593",
   "metadata": {},
   "source": [
    "Principles of computer science II - Third assignment\n",
    "Anastasia Sonego - 1879436\n",
    "2SUM"
   ]
  },
  {
   "cell_type": "code",
   "execution_count": 2,
   "id": "f79cc2e4",
   "metadata": {},
   "outputs": [
    {
     "name": "stdout",
     "output_type": "stream",
     "text": [
      "55 4894\n",
      "1 2556\n",
      "23 2751\n",
      "4 3138\n",
      "4 7723\n",
      "1 4157\n",
      "5 2279\n",
      "2 7135\n",
      "1769 4114\n",
      "1673 7541\n",
      "589 5968\n",
      "2 286\n",
      "5 2750\n",
      "2 4269\n",
      "2 7777\n"
     ]
    }
   ],
   "source": [
    "def twoSum(data):\n",
    "    for row in data[1:]:\n",
    "        vec = [-1]\n",
    "        vec2 = list(map(int, row.split()))\n",
    "        for i in vec2:\n",
    "            if i != 0 and -1*i in vec2:\n",
    "                vec = [vec2.index(i)+1, vec2.index(-1*i)+1]\n",
    "                break\n",
    "            elif i == 0 and vec2.count(0) > 1:\n",
    "                q1 = vec2.index(0)\n",
    "                q2 = vec2.index(0, q1+1)\n",
    "                vec = [q1+1, q2+1]\n",
    "                break\n",
    "            else:\n",
    "                None\n",
    "        if len(vec) == 2:\n",
    "            print(*sorted(vec))\n",
    "            \n",
    "data= open('rosalind_2sum.txt', 'r')\n",
    "data= data.readlines()\n",
    "twoSum(data)"
   ]
  },
  {
   "cell_type": "code",
   "execution_count": null,
   "id": "83d64dc1",
   "metadata": {},
   "outputs": [],
   "source": []
  }
 ],
 "metadata": {
  "kernelspec": {
   "display_name": "Python 3",
   "language": "python",
   "name": "python3"
  },
  "language_info": {
   "codemirror_mode": {
    "name": "ipython",
    "version": 3
   },
   "file_extension": ".py",
   "mimetype": "text/x-python",
   "name": "python",
   "nbconvert_exporter": "python",
   "pygments_lexer": "ipython3",
   "version": "3.7.9"
  }
 },
 "nbformat": 4,
 "nbformat_minor": 5
}
