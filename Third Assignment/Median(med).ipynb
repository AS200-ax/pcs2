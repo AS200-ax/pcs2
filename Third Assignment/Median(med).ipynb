{
 "cells": [
  {
   "cell_type": "raw",
   "id": "43359bb9",
   "metadata": {},
   "source": [
    "Principles of Computer Science II - Third Assignment\n",
    "Anastasia Sonego - 1879436 - Median"
   ]
  },
  {
   "cell_type": "code",
   "execution_count": 3,
   "id": "2420ec54",
   "metadata": {},
   "outputs": [
    {
     "name": "stdout",
     "output_type": "stream",
     "text": [
      "-60590\n"
     ]
    }
   ],
   "source": [
    "def median(A,k):\n",
    "    A=sorted(A)\n",
    "    return A[k-1]\n",
    "\n",
    "data = open('rosalind_med.txt','r')\n",
    "data = data.readlines()\n",
    "\n",
    "A = list(map(int,data[1].split()))\n",
    "k = int(data[2])\n",
    "\n",
    "print(median(A,k))"
   ]
  },
  {
   "cell_type": "code",
   "execution_count": null,
   "id": "dab93e5f",
   "metadata": {},
   "outputs": [],
   "source": []
  }
 ],
 "metadata": {
  "kernelspec": {
   "display_name": "Python 3",
   "language": "python",
   "name": "python3"
  },
  "language_info": {
   "codemirror_mode": {
    "name": "ipython",
    "version": 3
   },
   "file_extension": ".py",
   "mimetype": "text/x-python",
   "name": "python",
   "nbconvert_exporter": "python",
   "pygments_lexer": "ipython3",
   "version": "3.7.9"
  }
 },
 "nbformat": 4,
 "nbformat_minor": 5
}
