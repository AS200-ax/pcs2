{
 "cells": [
  {
   "cell_type": "raw",
   "id": "71f5a1d3",
   "metadata": {},
   "source": [
    "Principles of computer science II - Third assignments: Majority Element\n",
    "Anastasia Sonego - 1879436"
   ]
  },
  {
   "cell_type": "code",
   "execution_count": 5,
   "id": "365ba1f6",
   "metadata": {},
   "outputs": [
    {
     "name": "stdout",
     "output_type": "stream",
     "text": [
      "2015 -1 -1 -1 -1 3353 -1 -1 1188 -1 -1 -1 9277 1313 236 -1 -1 9043 -1 None\n"
     ]
    }
   ],
   "source": [
    "def majorityElement(data):\n",
    "    kn = list(map(int, data[0].split()))\n",
    "    k = int(kn[0])\n",
    "    n = int(kn[1])\n",
    "    for line in data[1:k+1]:\n",
    "        maj = -1\n",
    "        line = list(map(int, line.split()))\n",
    "        for i in line:\n",
    "            if line.count(i) > n//2:\n",
    "                maj = i\n",
    "        print(maj, end = ' ')\n",
    "\n",
    "\n",
    "\n",
    "f = open('rosalind_maj.txt', 'r')\n",
    "f = f.readlines()\n",
    "print (majorityElement(f))"
   ]
  },
  {
   "cell_type": "code",
   "execution_count": null,
   "id": "aea4cd21",
   "metadata": {},
   "outputs": [],
   "source": []
  }
 ],
 "metadata": {
  "kernelspec": {
   "display_name": "Python 3",
   "language": "python",
   "name": "python3"
  },
  "language_info": {
   "codemirror_mode": {
    "name": "ipython",
    "version": 3
   },
   "file_extension": ".py",
   "mimetype": "text/x-python",
   "name": "python",
   "nbconvert_exporter": "python",
   "pygments_lexer": "ipython3",
   "version": "3.7.9"
  }
 },
 "nbformat": 4,
 "nbformat_minor": 5
}
