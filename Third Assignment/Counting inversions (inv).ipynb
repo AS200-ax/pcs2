{
 "cells": [
  {
   "cell_type": "raw",
   "id": "0998a5e4",
   "metadata": {},
   "source": [
    "Principles of Computer Science II - Third Assignment\n",
    "Anastasia Sonego - 1879436 - Counting inversions"
   ]
  },
  {
   "cell_type": "code",
   "execution_count": 2,
   "id": "91cf92ef",
   "metadata": {},
   "outputs": [
    {
     "name": "stdout",
     "output_type": "stream",
     "text": [
      "40539\n"
     ]
    }
   ],
   "source": [
    "def inv(A):\n",
    "    num=0\n",
    "    for i in range(len(A)-1):\n",
    "        if A[i]>=A[i+1]:\n",
    "            num+=1\n",
    "    return num\n",
    "\n",
    "data = open('rosalind_inv.txt', 'r')\n",
    "data = data.readlines()\n",
    "A = list(map(int, data[1].split()))\n",
    "print(inv(A))"
   ]
  },
  {
   "cell_type": "code",
   "execution_count": null,
   "id": "fc92dc50",
   "metadata": {},
   "outputs": [],
   "source": []
  }
 ],
 "metadata": {
  "kernelspec": {
   "display_name": "Python 3",
   "language": "python",
   "name": "python3"
  },
  "language_info": {
   "codemirror_mode": {
    "name": "ipython",
    "version": 3
   },
   "file_extension": ".py",
   "mimetype": "text/x-python",
   "name": "python",
   "nbconvert_exporter": "python",
   "pygments_lexer": "ipython3",
   "version": "3.7.9"
  }
 },
 "nbformat": 4,
 "nbformat_minor": 5
}
