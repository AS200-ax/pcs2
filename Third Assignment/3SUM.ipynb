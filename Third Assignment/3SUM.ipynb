{
 "cells": [
  {
   "cell_type": "raw",
   "id": "97c90f32",
   "metadata": {},
   "source": [
    "Principles of Computer Science II - Third assignment\n",
    "\n",
    "Anastasia Sonego - 1870436 - 3SUM"
   ]
  },
  {
   "cell_type": "code",
   "execution_count": 8,
   "id": "18bedf83",
   "metadata": {},
   "outputs": [
    {
     "name": "stdout",
     "output_type": "stream",
     "text": [
      "-1\n",
      "2697 2968 4545\n",
      "4618 6762 7049\n",
      "8136 8168 8188\n",
      "5097 7732 8124\n",
      "4969 5122 5563\n",
      "-1\n",
      "-1\n",
      "-1\n",
      "328 5891 5969\n",
      "-1\n",
      "1 303 386\n",
      "10 531 7019\n",
      "-1\n"
     ]
    }
   ],
   "source": [
    "def twoSum(vec, b):\n",
    "    emp = {}\n",
    "    \n",
    "    for i in range(len(vec)):\n",
    "        if vec[i] in emp:\n",
    "            return (emp[vec[i]]+1, i+1)\n",
    "        else:\n",
    "            emp[b-vec[i]] = i     \n",
    "    return -1\n",
    "    \n",
    "    \n",
    "def threeSum(vec):\n",
    "    for i in range(len(vec)):\n",
    "        r = twoSum(vec[i+1:], -vec[i])\n",
    "        if r != -1:\n",
    "            k = sorted([i+1, i+1+r[0], i+1+r[1]])\n",
    "            return k\n",
    "    return [-1]\n",
    "\n",
    "data = open('rosalind_3sum.txt', 'r')\n",
    "data = data.readlines()\n",
    "\n",
    "for line in data[1:]:\n",
    "    vec = list(map(int, line.split(' ')))\n",
    "    print(*threeSum(vec))"
   ]
  },
  {
   "cell_type": "code",
   "execution_count": null,
   "id": "5c7a6ad3",
   "metadata": {},
   "outputs": [],
   "source": []
  },
  {
   "cell_type": "code",
   "execution_count": null,
   "id": "39418878",
   "metadata": {},
   "outputs": [],
   "source": []
  },
  {
   "cell_type": "code",
   "execution_count": null,
   "id": "d5b2e153",
   "metadata": {},
   "outputs": [],
   "source": []
  }
 ],
 "metadata": {
  "kernelspec": {
   "display_name": "Python 3",
   "language": "python",
   "name": "python3"
  },
  "language_info": {
   "codemirror_mode": {
    "name": "ipython",
    "version": 3
   },
   "file_extension": ".py",
   "mimetype": "text/x-python",
   "name": "python",
   "nbconvert_exporter": "python",
   "pygments_lexer": "ipython3",
   "version": "3.7.9"
  }
 },
 "nbformat": 4,
 "nbformat_minor": 5
}
