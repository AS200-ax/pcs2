{
 "cells": [
  {
   "cell_type": "raw",
   "id": "chinese-month",
   "metadata": {},
   "source": [
    "Principles of computer science II - Third assignments: Fibonacci numbers \n",
    "Anastasia Sonego - 1879436"
   ]
  },
  {
   "cell_type": "code",
   "execution_count": 3,
   "id": "underlying-saturday",
   "metadata": {},
   "outputs": [
    {
     "name": "stdout",
     "output_type": "stream",
     "text": [
      "21\n",
      "10946\n"
     ]
    }
   ],
   "source": [
    "n=int(input())\n",
    "def fibo(n):\n",
    "    n1=1\n",
    "    n2=0\n",
    "    for i in range(n):\n",
    "        aux = n2\n",
    "        n2 = n2 + n1\n",
    "        n1 = aux\n",
    "    return(n2)\n",
    "\n",
    "print(fibo(n))"
   ]
  },
  {
   "cell_type": "code",
   "execution_count": null,
   "id": "explicit-composite",
   "metadata": {},
   "outputs": [],
   "source": []
  }
 ],
 "metadata": {
  "kernelspec": {
   "display_name": "Python 3",
   "language": "python",
   "name": "python3"
  },
  "language_info": {
   "codemirror_mode": {
    "name": "ipython",
    "version": 3
   },
   "file_extension": ".py",
   "mimetype": "text/x-python",
   "name": "python",
   "nbconvert_exporter": "python",
   "pygments_lexer": "ipython3",
   "version": "3.6.13"
  }
 },
 "nbformat": 4,
 "nbformat_minor": 5
}
