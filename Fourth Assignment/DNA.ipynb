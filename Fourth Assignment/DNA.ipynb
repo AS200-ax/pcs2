{
 "cells": [
  {
   "cell_type": "raw",
   "id": "24e18c8a",
   "metadata": {},
   "source": [
    "Principles of Computer Science II - Fourth Assignment\n",
    "Anastasia Sonego - 1879436 - DNA"
   ]
  },
  {
   "cell_type": "code",
   "execution_count": 1,
   "id": "49d52c2b",
   "metadata": {},
   "outputs": [
    {
     "name": "stdout",
     "output_type": "stream",
     "text": [
      "218 208 227 215\n"
     ]
    }
   ],
   "source": [
    "def countDNA (dna):\n",
    "    return (dna.count('A'),dna.count('C'),dna.count('G'),dna.count('T'))\n",
    "\n",
    "dna=str(open('rosalind_dna.txt','r').readlines())\n",
    "print (*countDNA(dna))"
   ]
  },
  {
   "cell_type": "code",
   "execution_count": null,
   "id": "5aaae49c",
   "metadata": {},
   "outputs": [],
   "source": []
  }
 ],
 "metadata": {
  "kernelspec": {
   "display_name": "Python 3",
   "language": "python",
   "name": "python3"
  },
  "language_info": {
   "codemirror_mode": {
    "name": "ipython",
    "version": 3
   },
   "file_extension": ".py",
   "mimetype": "text/x-python",
   "name": "python",
   "nbconvert_exporter": "python",
   "pygments_lexer": "ipython3",
   "version": "3.7.9"
  }
 },
 "nbformat": 4,
 "nbformat_minor": 5
}
