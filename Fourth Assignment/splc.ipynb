{
 "cells": [
  {
   "cell_type": "raw",
   "id": "2075ea4d",
   "metadata": {},
   "source": [
    "Principles of Computer Science II - Fourth Assignment\n",
    "Anastasia Sonego - 1879436 - splc"
   ]
  },
  {
   "cell_type": "code",
   "execution_count": 31,
   "id": "668d70b2",
   "metadata": {},
   "outputs": [
    {
     "name": "stdout",
     "output_type": "stream",
     "text": [
      "MHRLIRAYTPVMADIDKSASDVHSMPMGKFWLLLKVGFGWPRELCSPYGAKSATFCRGVDVCFACPPVRNTSWMVTRAAGSYRWGETLTHHRDDCSQAMPCCSYTPKLVRGRLGSDVPLRTQRNENSKFTASRSTRVTMAEIWLNCVLWRGRQCGACSMTRSRLNRIYIRHRSFVCSLGDPWITQPPLLCASSSRSSRNRPPLRLPALH\n"
     ]
    }
   ],
   "source": [
    "def splicing(gene,introns):\n",
    "    for i in introns:\n",
    "        if i in gene:\n",
    "            gene=gene.replace(i,'')\n",
    "    return gene\n",
    "\n",
    "codons = {'AAA': 'K', 'AAC': 'N', 'AAG': 'K', 'AAT': 'N', 'ACA': 'T', 'ACC': 'T', 'ACG': 'T', 'ACT': 'T', 'AGA': 'R',\n",
    "          'AGC': 'S', 'AGG': 'R', 'AGT': 'S', 'ATA': 'I', 'ATC': 'I', 'ATG': 'M', 'ATT': 'I', 'CAA': 'Q', 'CAC': 'H',\n",
    "          'CAG': 'Q', 'CAT': 'H', 'CCA': 'P', 'CCC': 'P', 'CCG': 'P', 'CCT': 'P', 'CGA': 'R', 'CGC': 'R', 'CGG': 'R',\n",
    "          'CGT': 'R', 'CTA': 'L', 'CTC': 'L', 'CTG': 'L', 'CTT': 'L', 'GAA': 'E', 'GAC': 'D', 'GAG': 'E', 'GAT': 'D',\n",
    "          'GCA': 'A', 'GCC': 'A', 'GCG': 'A', 'GCT': 'A', 'GGA': 'G', 'GGC': 'G', 'GGG': 'G', 'GGT': 'G', 'GTA': 'V',\n",
    "          'GTC': 'V', 'GTG': 'V', 'GTT': 'V', 'TAA': 'stop', 'TAC': 'Y', 'TAG': 'stop', 'TAT': 'Y', 'TCA': 'S', 'TCC': 'S',\n",
    "          'TCG': 'S', 'TCT': 'S', 'TGA': 'stop', 'TGC': 'C', 'TGG': 'W', 'TGT': 'C', 'TTA': 'L', 'TTC': 'F', 'TTG': 'L',\n",
    "          'TTT': 'F'}\n",
    "    \n",
    "def translation(gene):\n",
    "    gene = splicing(gene, introns)\n",
    "    protein=''\n",
    "    for i in range(0,len(gene),3):\n",
    "        codon=gene[i:i+3]\n",
    "        if codons[codon]!='stop':\n",
    "            protein+=codons[codon]\n",
    "        else: break\n",
    "    print(protein)\n",
    "\n",
    "data=open('rosalind_splc.txt','r').read().split('>')[1:]\n",
    "gene=str(data[0].split('\\n',1)[1].replace('\\n',''))\n",
    "introns=[]\n",
    "for i in range(1, len(data)):\n",
    "        row = data[i].split('\\n', 1)\n",
    "        rows = row[1].replace('\\n', '')\n",
    "        introns.append(rows)\n",
    "translation(gene)"
   ]
  },
  {
   "cell_type": "code",
   "execution_count": null,
   "id": "18d0ef4b",
   "metadata": {},
   "outputs": [],
   "source": []
  }
 ],
 "metadata": {
  "kernelspec": {
   "display_name": "Python 3",
   "language": "python",
   "name": "python3"
  },
  "language_info": {
   "codemirror_mode": {
    "name": "ipython",
    "version": 3
   },
   "file_extension": ".py",
   "mimetype": "text/x-python",
   "name": "python",
   "nbconvert_exporter": "python",
   "pygments_lexer": "ipython3",
   "version": "3.7.9"
  }
 },
 "nbformat": 4,
 "nbformat_minor": 5
}
