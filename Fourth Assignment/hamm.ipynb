{
 "cells": [
  {
   "cell_type": "raw",
   "id": "ba228be8",
   "metadata": {},
   "source": [
    "Principles of Computer Science II - Fourth Assignment\n",
    "Anastasia Sonego - 1879436 - hamm"
   ]
  },
  {
   "cell_type": "code",
   "execution_count": 7,
   "id": "5e8a775a",
   "metadata": {},
   "outputs": [
    {
     "name": "stdout",
     "output_type": "stream",
     "text": [
      "477\n"
     ]
    }
   ],
   "source": [
    "def hamm (s,t):\n",
    "    diff=0\n",
    "    for i in range(len(s)):\n",
    "        if s[i]!=t[i]:\n",
    "            diff+=1\n",
    "    \n",
    "    return diff\n",
    "    \n",
    "data=open('rosalind_hamm.txt','r').readlines()\n",
    "s,t=data[0],data[1]\n",
    "print(hamm(s,t))"
   ]
  },
  {
   "cell_type": "code",
   "execution_count": null,
   "id": "b9c7fd18",
   "metadata": {},
   "outputs": [],
   "source": []
  }
 ],
 "metadata": {
  "kernelspec": {
   "display_name": "Python 3",
   "language": "python",
   "name": "python3"
  },
  "language_info": {
   "codemirror_mode": {
    "name": "ipython",
    "version": 3
   },
   "file_extension": ".py",
   "mimetype": "text/x-python",
   "name": "python",
   "nbconvert_exporter": "python",
   "pygments_lexer": "ipython3",
   "version": "3.7.9"
  }
 },
 "nbformat": 4,
 "nbformat_minor": 5
}
