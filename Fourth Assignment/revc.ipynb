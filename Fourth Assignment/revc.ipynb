{
 "cells": [
  {
   "cell_type": "raw",
   "id": "04cc2e78",
   "metadata": {},
   "source": [
    "Principles of Computer Science II - Fourth Assignment\n",
    "Anastasia Sonego - 1879436 - revc"
   ]
  },
  {
   "cell_type": "code",
   "execution_count": 5,
   "id": "cf429092",
   "metadata": {
    "scrolled": true
   },
   "outputs": [
    {
     "name": "stdout",
     "output_type": "stream",
     "text": [
      "CGTGCAGAATCCTTGGTTTCGAGTCCTACATCCTCATTGTCAGTGAGGGCTTGAGCTTCTATTTGGCAAATGTTAGTTGTCGATCAATCATAAAGAAGACGCGTCTATGCATTGCGAGCATTGTGCGCCTCCCTCTTTTGCCACCTAAGCAGTCCTTGAGAGTCATATCCGGCCCCACAGCATGGACTATAACTGACAGTCCAGTAGGATTCGAGGCTATTGCTTATTGCCGAACCGGGTTAGAGATTTCTCTCCCCAGCTTCGACCCTCCTCGTGAAGGGACATTCCAGAACACGGACGCTTCCAAGGCACGAAGCTAAACAGAGCGATGCGGGTGAACCATTTAAGTCAGTCATTGCAGGAATTCCCTGAGTCTATTGCGATTTCGTTCTCCTCGAACTCCAGGCGCGACGGCACTTCTTTGTGCATGCAAGCCTACCTATACGTTCACGGGAAGTGTGAAAAAGCGTTGCCAGCTTCACCGTTGAGATCTTGCGCTGGCAGACAAAGAGCCAGGACCGTGGGTAAGGTGGAAACACTGTGTGGGTAACGGCAGATTACAATGAAGGCCATTAATCGGGCCAATTCTCGTTGCAGCAACCACGGTTCAACGCACGATATTGTTCACAGCCCGGTGGCTCGGTGATGAGTAAATGTTATCTCTTACCACGTGCGAAGGAGGCAGTAAGTTGGGAGCGGTGCGTTAGTTGAAAGACAAGGCTGGGTCTCAATGATATCCACATGTAGAACAGCCGTTTGCTGGCGGCATGTCTCCTACACATCACAGCTTGTAGGGCAACTCTATCACGTAAGACCCCTTCGGGGGTACGGCAGGTAGTAGAGTGTTTCCCGGAAACTCGTGCCACGCGACGGTGTTACACC\n"
     ]
    }
   ],
   "source": [
    "def comp(ssdna):\n",
    "    g=''\n",
    "    for i in ssdna[::-1]:\n",
    "        if i==\"A\":\n",
    "            g += \"T\"\n",
    "        if i==\"T\":\n",
    "            g += \"A\"\n",
    "        if i==\"G\":\n",
    "            g += \"C\"\n",
    "        if i==\"C\":\n",
    "            g += \"G\"\n",
    "    return g\n",
    "    \n",
    "dna=str(open('rosalind_revc.txt','r').readlines())\n",
    "print(comp(dna))"
   ]
  },
  {
   "cell_type": "code",
   "execution_count": null,
   "id": "1ee02b5b",
   "metadata": {},
   "outputs": [],
   "source": []
  }
 ],
 "metadata": {
  "kernelspec": {
   "display_name": "Python 3",
   "language": "python",
   "name": "python3"
  },
  "language_info": {
   "codemirror_mode": {
    "name": "ipython",
    "version": 3
   },
   "file_extension": ".py",
   "mimetype": "text/x-python",
   "name": "python",
   "nbconvert_exporter": "python",
   "pygments_lexer": "ipython3",
   "version": "3.7.9"
  }
 },
 "nbformat": 4,
 "nbformat_minor": 5
}
