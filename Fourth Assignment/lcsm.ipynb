{
 "cells": [
  {
   "cell_type": "raw",
   "id": "29c8b1fc",
   "metadata": {},
   "source": [
    "Principles of Computer Science II - Fourth Assignment\n",
    "Anastasia Sonego - 1879436 - lcsm"
   ]
  },
  {
   "cell_type": "code",
   "execution_count": 2,
   "id": "e571788e",
   "metadata": {},
   "outputs": [
    {
     "name": "stdout",
     "output_type": "stream",
     "text": [
      "CCTCGTGCTCAGACCCGGCACGGTAACAGTGCATCGGCGGTGGAACACCCCAAGGTTAGTGAGCGGGACAAGTTAGGCGGTTGCAAATAACTTTATATCAACACAACTCATTTTCCGGCACCAACGTAAATACCATTAACAGGTCCTAGACCGAGAGGTTATGTGCTTGGAGATCCGGGATTAAACCCGAGCCGCTAAGGTAATCCCTGGCAG\n"
     ]
    }
   ],
   "source": [
    "def lcsm(dataset):\n",
    "    substring=''\n",
    "    for i in range(len(dataset[0])):\n",
    "        for j in range(len(dataset[0])-i+1):\n",
    "            if j>len(substring):\n",
    "                Bool=True\n",
    "                for s in dataset:\n",
    "                    if dataset[0][i:i+j] not in s:\n",
    "                        Bool=False\n",
    "                if Bool==True:\n",
    "                    substring=dataset[0][i:i+j]\n",
    "    return substring\n",
    "                        \n",
    "data=open('rosalind_lcsm.txt','r').read().split('>')[1:]\n",
    "dataset=[]\n",
    "for i in range(len(data)):\n",
    "    row=data[i].split('\\n',1)\n",
    "    dataset.append(row[1].replace('\\n',''))\n",
    "print(lcsm(dataset))"
   ]
  },
  {
   "cell_type": "code",
   "execution_count": null,
   "id": "d8951079",
   "metadata": {},
   "outputs": [],
   "source": []
  }
 ],
 "metadata": {
  "kernelspec": {
   "display_name": "Python 3",
   "language": "python",
   "name": "python3"
  },
  "language_info": {
   "codemirror_mode": {
    "name": "ipython",
    "version": 3
   },
   "file_extension": ".py",
   "mimetype": "text/x-python",
   "name": "python",
   "nbconvert_exporter": "python",
   "pygments_lexer": "ipython3",
   "version": "3.7.9"
  }
 },
 "nbformat": 4,
 "nbformat_minor": 5
}
