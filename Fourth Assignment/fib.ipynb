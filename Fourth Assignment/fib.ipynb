{
 "cells": [
  {
   "cell_type": "raw",
   "id": "0fc37300",
   "metadata": {},
   "source": [
    "Principles of Computer Science II - Fourth Assignment\n",
    "Anastasia Sonego - 1879436 - fib"
   ]
  },
  {
   "cell_type": "code",
   "execution_count": 3,
   "id": "d29634f7",
   "metadata": {},
   "outputs": [
    {
     "name": "stdout",
     "output_type": "stream",
     "text": [
      "249650241628\n"
     ]
    }
   ],
   "source": [
    "def fibRabbit(n,k):\n",
    "    nMin2=1\n",
    "    nMin1=1\n",
    "    for i in range(n-2):\n",
    "        Rab=nMin2*k + nMin1\n",
    "        nMin2=nMin1\n",
    "        nMin1=Rab\n",
    "        \n",
    "    return Rab\n",
    "\n",
    "data=list(map(int, open('rosalind_fib.txt','r').read().split()))\n",
    "n,k=data[0],data[1]\n",
    "print(fibRabbit(n,k))"
   ]
  },
  {
   "cell_type": "code",
   "execution_count": null,
   "id": "e4daff50",
   "metadata": {},
   "outputs": [],
   "source": []
  }
 ],
 "metadata": {
  "kernelspec": {
   "display_name": "Python 3",
   "language": "python",
   "name": "python3"
  },
  "language_info": {
   "codemirror_mode": {
    "name": "ipython",
    "version": 3
   },
   "file_extension": ".py",
   "mimetype": "text/x-python",
   "name": "python",
   "nbconvert_exporter": "python",
   "pygments_lexer": "ipython3",
   "version": "3.7.9"
  }
 },
 "nbformat": 4,
 "nbformat_minor": 5
}
