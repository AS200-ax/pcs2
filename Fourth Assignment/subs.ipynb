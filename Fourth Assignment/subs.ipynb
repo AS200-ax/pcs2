{
 "cells": [
  {
   "cell_type": "raw",
   "id": "4bf917fe",
   "metadata": {},
   "source": [
    "Principles of Computer Science II - Fourth Assignment\n",
    "Anastasia Sonego - 1879436 - subs"
   ]
  },
  {
   "cell_type": "code",
   "execution_count": 28,
   "id": "42ab2eb3",
   "metadata": {
    "scrolled": true
   },
   "outputs": [
    {
     "name": "stdout",
     "output_type": "stream",
     "text": [
      "6 22 47 55 89 230 237 301 308 370 415 428 505 534 541 565 572 579 617 654 697 769 776 783\n"
     ]
    }
   ],
   "source": [
    "import re\n",
    "\n",
    "def subs(dna,motif):\n",
    "    ind=[]\n",
    "    for i in range(len(dna[:-len(motif)+1])):\n",
    "        if dna[i:i+(len(motif))]==motif:\n",
    "            ind.append(i+1)\n",
    "    return ind\n",
    "    \n",
    "data=open('rosalind_subs.txt','r').readlines()\n",
    "dna=data[0].replace('\\n','')\n",
    "motif=data[1].replace('\\n','')\n",
    "print(*subs(dna,motif))"
   ]
  },
  {
   "cell_type": "code",
   "execution_count": null,
   "id": "0b043bca",
   "metadata": {},
   "outputs": [],
   "source": []
  },
  {
   "cell_type": "code",
   "execution_count": null,
   "id": "cb688b5e",
   "metadata": {},
   "outputs": [],
   "source": []
  }
 ],
 "metadata": {
  "kernelspec": {
   "display_name": "Python 3",
   "language": "python",
   "name": "python3"
  },
  "language_info": {
   "codemirror_mode": {
    "name": "ipython",
    "version": 3
   },
   "file_extension": ".py",
   "mimetype": "text/x-python",
   "name": "python",
   "nbconvert_exporter": "python",
   "pygments_lexer": "ipython3",
   "version": "3.7.9"
  }
 },
 "nbformat": 4,
 "nbformat_minor": 5
}
