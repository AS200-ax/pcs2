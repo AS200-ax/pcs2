{
 "cells": [
  {
   "cell_type": "raw",
   "id": "01e3772c",
   "metadata": {},
   "source": [
    "Principles of Computer Science II - Fourth Assignment\n",
    "Anastasia Sonego - 1879436 - gc"
   ]
  },
  {
   "cell_type": "code",
   "execution_count": 5,
   "id": "f628a15d",
   "metadata": {},
   "outputs": [
    {
     "name": "stdout",
     "output_type": "stream",
     "text": [
      "Rosalind_9133 \n",
      " 51.442308\n"
     ]
    }
   ],
   "source": [
    "def highestGC(data):\n",
    "    ID = ''\n",
    "    freq = 0\n",
    "    for i in data:\n",
    "        i = i.split('\\n', 1)\n",
    "        inf = i[1].replace('\\n', '')\n",
    "        gcfreq = float((inf.count('C') + inf.count('G'))/(len(inf)))\n",
    "        \n",
    "        if gcfreq > freq:\n",
    "            freq = gcfreq\n",
    "            ID = i[0]\n",
    "    return ID, round(freq*100, 6)\n",
    "\n",
    "data=open('rosalind_gc.txt','r').read().split('>')[1:]\n",
    "print(highestGC(data)[0],\"\\n\",highestGC(data)[1])"
   ]
  },
  {
   "cell_type": "code",
   "execution_count": null,
   "id": "98617852",
   "metadata": {},
   "outputs": [],
   "source": []
  },
  {
   "cell_type": "code",
   "execution_count": null,
   "id": "4611ec2b",
   "metadata": {},
   "outputs": [],
   "source": []
  }
 ],
 "metadata": {
  "kernelspec": {
   "display_name": "Python 3",
   "language": "python",
   "name": "python3"
  },
  "language_info": {
   "codemirror_mode": {
    "name": "ipython",
    "version": 3
   },
   "file_extension": ".py",
   "mimetype": "text/x-python",
   "name": "python",
   "nbconvert_exporter": "python",
   "pygments_lexer": "ipython3",
   "version": "3.7.9"
  }
 },
 "nbformat": 4,
 "nbformat_minor": 5
}
