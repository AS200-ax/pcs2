{
 "cells": [
  {
   "cell_type": "raw",
   "id": "d78cadff",
   "metadata": {},
   "source": [
    "Principles of Computer Science II - Fourth Assignment\n",
    "Anastasia Sonego - 1879436 - RNA"
   ]
  },
  {
   "cell_type": "code",
   "execution_count": 3,
   "id": "f50bce45",
   "metadata": {},
   "outputs": [
    {
     "name": "stdout",
     "output_type": "stream",
     "text": [
      "['GUUGAGCGCUGUCGACAAAUCCGAAAACCAAGAGAUGGGAGGGGUAAAUUACAGGAGGAAGUCUCACGUUGAUACGACUGCUGGGCAUUCACCCUUUGUACCAGCGAUGCGGUAAUUGCUCAGAGGUAAUUAUGAAAUUGGCCGUGGUGAACGGGAUGGUGAUUUACAGUGCACUAUGUGGACGAGUCAUUAUAUUGACGCCAGAGGAAGGACCAUAGAGCCUUCUGGUCGUCUUUAAGACUCAAUUCUGCAAAGCGGGUACCCAUACAGGUCGACGAUAGUCAGUUAAGUCACCGCGGUCGAUAGCCAACCGGGUAAUCAGUGACUGAUACGCGUACCGGUUCAGGAGGUGUCCUCUGAAGCAUAUCAGAACACCAGCUUAUCGUUAAGGGUACCAAUGGACUUUCCUCCUUGUAUAGCAGUCCAUUUCGCCAAGGGAGCUUGUGGAUACAAAAGUAUUCUUCACUUGCCGAACGCUCAUGCAUGUCAUGCCCUUUGAGUCAAUGGUUAGCCGUGCAUAUGAAACGCGACCGCUGACCUACGGGUUCAAAGACACUCCUAAUGGUCCAUAGGACGAGGGAUCCGGAGUCGUGCACAUGUCGCCAUUCCGGCGAUACGCGCUGGGGUCCCUGACGGGGCUCCAAAAUUAGAUCAAUCCCAACCAGUGCUGGUGGAGGUUCAGCUAGCUAUGUACGAGCUUAUCACUUGAAUCCUAUGGUCCCGAUGCCAGGCCCCUCCGCUGAGAACGAGGAGAAUAGUAAGACAAACCGAGGUGCAACACCACUGUACCUGAGCCUAUGCGUGGUCCGAGUGAGUCUAGGGUAGGUACUGUGCAUGAUCAGGAGGCUACCGUCCGCGUCCCCGGACUCGUCCACGUAGUUCAAGGUAUGGUCGACUUCCAAUGCUGACUCUUAACUAUGAGCCUCAAAAUCCUAUGCGUUGGGUUUGAUUGCAUAU\\n']\n"
     ]
    }
   ],
   "source": [
    "def rnaconv(t):\n",
    "    return t.replace('T','U')\n",
    "\n",
    "t=str(open('rosalind_rna.txt','r').readlines())\n",
    "print(rnaconv(t))"
   ]
  },
  {
   "cell_type": "code",
   "execution_count": null,
   "id": "cc78ff92",
   "metadata": {},
   "outputs": [],
   "source": []
  }
 ],
 "metadata": {
  "kernelspec": {
   "display_name": "Python 3",
   "language": "python",
   "name": "python3"
  },
  "language_info": {
   "codemirror_mode": {
    "name": "ipython",
    "version": 3
   },
   "file_extension": ".py",
   "mimetype": "text/x-python",
   "name": "python",
   "nbconvert_exporter": "python",
   "pygments_lexer": "ipython3",
   "version": "3.7.9"
  }
 },
 "nbformat": 4,
 "nbformat_minor": 5
}
