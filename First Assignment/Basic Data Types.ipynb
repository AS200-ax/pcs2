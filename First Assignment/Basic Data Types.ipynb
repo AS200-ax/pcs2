{
 "cells": [
  {
   "cell_type": "raw",
   "id": "centered-invalid",
   "metadata": {},
   "source": [
    "Bioinformatics - Principles of Computer Science II\n",
    "Anastasia Sonego\n",
    "1879436\n",
    "Assignement I - Basic Data Types"
   ]
  },
  {
   "cell_type": "code",
   "execution_count": null,
   "id": "found-scale",
   "metadata": {},
   "outputs": [],
   "source": [
    "#1) List Comprehensions\n",
    "if __name__ == '__main__':\n",
    "    x = int(input())\n",
    "    y = int(input())\n",
    "    z = int(input())\n",
    "    n = int(input())\n",
    "\n",
    "    list_of_lists=[]\n",
    "    for i in range(x+1):\n",
    "        for j in range(y+1):\n",
    "            for k in range(z+1):\n",
    "                if (i+j+k)!=n:\n",
    "                    list_of_lists.append([i,j,k])\n",
    "                \n",
    "\n",
    "    print(list_of_lists)"
   ]
  },
  {
   "cell_type": "code",
   "execution_count": null,
   "id": "senior-teach",
   "metadata": {},
   "outputs": [],
   "source": [
    "#2) Find the runner-up score\n",
    "if __name__ == '__main__':\n",
    "    n = int(input())\n",
    "    arr = map(int, input().split())\n",
    "\n",
    "    print(sorted(set(arr))[-2])"
   ]
  },
  {
   "cell_type": "code",
   "execution_count": null,
   "id": "infectious-valentine",
   "metadata": {},
   "outputs": [],
   "source": [
    "#3) Nested lists\n",
    "if __name__ == '__main__':\n",
    "    lista=[]\n",
    "    scores=[]\n",
    "    for i in range(int(input())):\n",
    "        name = input()\n",
    "        score = float(input())\n",
    "        lista.append([name,score])\n",
    "        scores.append(score)\n",
    "    \n",
    "    scores2=sorted(set(scores))\n",
    "    lst=[]\n",
    "    for i in lista:\n",
    "        if i[1]==scores2[1]:\n",
    "            lst.append(i[0])\n",
    "    \n",
    "    lst=sorted(lst)\n",
    "    for i in lst:\n",
    "        print(i)"
   ]
  },
  {
   "cell_type": "code",
   "execution_count": null,
   "id": "wicked-hello",
   "metadata": {},
   "outputs": [],
   "source": [
    "#4) Finding the percentage\n",
    "if __name__ == '__main__':\n",
    "    n = int(input())\n",
    "    student_marks = {}\n",
    "    for _ in range(n):\n",
    "        name, *line = input().split()\n",
    "        scores = list(map(float, line))\n",
    "        student_marks[name] = scores\n",
    "    query_name = input()\n",
    "    \n",
    "    print('{0:.2f}'.format(float(sum(student_marks[query_name])/len(student_marks[query_name]))))"
   ]
  },
  {
   "cell_type": "code",
   "execution_count": null,
   "id": "blessed-repository",
   "metadata": {},
   "outputs": [],
   "source": [
    "#5) Lists\n",
    "if __name__ == '__main__':\n",
    "    N=int(input().strip())\n",
    "\n",
    "    el=[]\n",
    "    for t in range(N):\n",
    "        lista=input().strip().split(\" \")\n",
    "        if lista[0]==\"append\":\n",
    "            el.append(int(lista[1]))\n",
    "        elif lista[0]==\"reverse\":\n",
    "            el.reverse()\n",
    "        elif lista[0]==\"insert\":\n",
    "            el.insert(int(lista[1]), int(lista[2]))\n",
    "        elif lista[0]==\"sort\":\n",
    "            el.sort()\n",
    "        elif lista[0]==\"remove\":\n",
    "            el.remove(int(lista[1]))\n",
    "        elif lista[0]==\"pop\":\n",
    "            el.pop()\n",
    "        elif lista[0]==\"print\":\n",
    "            print(el)"
   ]
  },
  {
   "cell_type": "code",
   "execution_count": null,
   "id": "based-needle",
   "metadata": {},
   "outputs": [],
   "source": [
    "#6) Tuples\n",
    "if __name__ == '__main__':\n",
    "    n = int(input())\n",
    "    integer_list = map(int, input().split())\n",
    "    t=tuple(integer_list)\n",
    "    print (hash(t))"
   ]
  }
 ],
 "metadata": {
  "kernelspec": {
   "display_name": "Python 3",
   "language": "python",
   "name": "python3"
  },
  "language_info": {
   "codemirror_mode": {
    "name": "ipython",
    "version": 3
   },
   "file_extension": ".py",
   "mimetype": "text/x-python",
   "name": "python",
   "nbconvert_exporter": "python",
   "pygments_lexer": "ipython3",
   "version": "3.6.13"
  }
 },
 "nbformat": 4,
 "nbformat_minor": 5
}
