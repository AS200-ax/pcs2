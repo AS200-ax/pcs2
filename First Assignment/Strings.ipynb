{
 "cells": [
  {
   "cell_type": "raw",
   "id": "inside-latest",
   "metadata": {},
   "source": [
    "Bioinformatics - Principles of Computer Science II\n",
    "Anastasia Sonego\n",
    "1879436\n",
    "Assignement I - Strings"
   ]
  },
  {
   "cell_type": "code",
   "execution_count": null,
   "id": "finite-insert",
   "metadata": {},
   "outputs": [],
   "source": [
    "#1) Mutations\n",
    "def mutate_string(string, position, character):\n",
    "    return string[:position]+character+string[(position+1):]"
   ]
  },
  {
   "cell_type": "code",
   "execution_count": null,
   "id": "electronic-suffering",
   "metadata": {},
   "outputs": [],
   "source": [
    "#2) Find a string\n",
    "def count_substring(string, sub_string):\n",
    "    num = 0\n",
    "    for i in range(len(string)):\n",
    "        if string[i:].startswith(sub_string):\n",
    "            num=num+1\n",
    "    return num"
   ]
  },
  {
   "cell_type": "code",
   "execution_count": null,
   "id": "romance-hearing",
   "metadata": {},
   "outputs": [],
   "source": [
    "#3) String validators\n",
    "if __name__ == '__main__':\n",
    "    s = input()\n",
    "    print (any (i.isalnum() for i in s))\n",
    "    print (any (i.isalpha() for i in s))\n",
    "    print (any (i.isdigit() for i in s))\n",
    "    print (any (i.islower() for i in s))\n",
    "    print (any (i.isupper() for i in s))"
   ]
  },
  {
   "cell_type": "code",
   "execution_count": null,
   "id": "understanding-electron",
   "metadata": {},
   "outputs": [],
   "source": [
    "#4) Text alignment\n",
    "#Replace all ______ with rjust, ljust or center. \n",
    "\n",
    "thickness = int(input()) #This must be an odd number\n",
    "c = 'H'\n",
    "\n",
    "#Top Cone\n",
    "for i in range(thickness):\n",
    "    print((c*i).rjust(thickness-1)+c+(c*i).ljust(thickness-1))\n",
    "\n",
    "#Top Pillars\n",
    "for i in range(thickness+1):\n",
    "    print((c*thickness).center(thickness*2)+(c*thickness).center(thickness*6))\n",
    "\n",
    "#Middle Belt\n",
    "for i in range((thickness+1)//2):\n",
    "    print((c*thickness*5).center(thickness*6))    \n",
    "\n",
    "#Bottom Pillars\n",
    "for i in range(thickness+1):\n",
    "    print((c*thickness).center(thickness*2)+(c*thickness).center(thickness*6))    \n",
    "\n",
    "#Bottom Cone\n",
    "for i in range(thickness):\n",
    "    print(((c*(thickness-i-1)).rjust(thickness)+c+(c*(thickness-i-1)).ljust(thickness)).rjust(thickness*6))"
   ]
  },
  {
   "cell_type": "code",
   "execution_count": null,
   "id": "humanitarian-mystery",
   "metadata": {},
   "outputs": [],
   "source": [
    "#5) What's your name?\n",
    "def print_full_name(a, b):\n",
    "    print(\"Hello \"+a+\" \"+b+\"! You just delved into python.\")"
   ]
  },
  {
   "cell_type": "code",
   "execution_count": null,
   "id": "further-explanation",
   "metadata": {},
   "outputs": [],
   "source": [
    "#6) Text wrap\n",
    "def wrap(string, max_width):\n",
    "    nuova= list()\n",
    "    for i in range(0,len(string),max_width):\n",
    "        nuova.append(string[i:i+max_width])\n",
    "    return \"\\n\".join(nuova)"
   ]
  },
  {
   "cell_type": "code",
   "execution_count": null,
   "id": "lesbian-sudan",
   "metadata": {},
   "outputs": [],
   "source": [
    "#7) Designer doormat\n",
    "# Enter your code here. Read input from STDIN. Print output to STDOUT\n",
    "N,M=map(int, input().split()) \n",
    "\n",
    "for i in range(1,N,2): \n",
    "    print((i*'.|.').center(M,'-'))\n",
    "    \n",
    "print('WELCOME'.center(M,'-'))\n",
    "\n",
    "for i in range(N-2,-1,-2): \n",
    "    print((i*'.|.').center(M,'-'))"
   ]
  },
  {
   "cell_type": "code",
   "execution_count": null,
   "id": "nutritional-battery",
   "metadata": {},
   "outputs": [],
   "source": [
    "#8) Capitalize\n",
    "def solve(s):\n",
    "    s=s.split(\" \")\n",
    "    return(\" \".join(i.capitalize() for i in s))"
   ]
  },
  {
   "cell_type": "code",
   "execution_count": null,
   "id": "expired-costume",
   "metadata": {},
   "outputs": [],
   "source": [
    "#9) String split and join\n",
    "def split_and_join(line):\n",
    "    return line.replace(\" \",\"-\")"
   ]
  },
  {
   "cell_type": "code",
   "execution_count": null,
   "id": "continuing-strip",
   "metadata": {},
   "outputs": [],
   "source": [
    "#10) sWAP cASE\n",
    "def swap_case(s):\n",
    "    s1=s.swapcase()\n",
    "    return s1"
   ]
  }
 ],
 "metadata": {
  "kernelspec": {
   "display_name": "Python 3",
   "language": "python",
   "name": "python3"
  },
  "language_info": {
   "codemirror_mode": {
    "name": "ipython",
    "version": 3
   },
   "file_extension": ".py",
   "mimetype": "text/x-python",
   "name": "python",
   "nbconvert_exporter": "python",
   "pygments_lexer": "ipython3",
   "version": "3.6.13"
  }
 },
 "nbformat": 4,
 "nbformat_minor": 5
}
