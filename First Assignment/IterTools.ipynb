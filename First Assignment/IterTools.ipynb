{
 "cells": [
  {
   "cell_type": "raw",
   "id": "featured-spice",
   "metadata": {},
   "source": [
    "Bioinformatics - Principles of Computer Science II\n",
    "Anastasia Sonego\n",
    "1879436\n",
    "Assignment I - IterTools"
   ]
  },
  {
   "cell_type": "code",
   "execution_count": null,
   "id": "abstract-pillow",
   "metadata": {},
   "outputs": [],
   "source": [
    "#1) Itertools.product()\n",
    "from itertools import product\n",
    "A=input().split()\n",
    "for i in range(len(A)):\n",
    "    A[i]=int(A[i])\n",
    "B=input().split()\n",
    "for i in range(len(B)):\n",
    "    B[i]=int(B[i])\n",
    "lst=[]\n",
    "lst.append(A)\n",
    "lst.append(B)\n",
    "\n",
    "print (*product(*lst))"
   ]
  },
  {
   "cell_type": "code",
   "execution_count": null,
   "id": "collectible-world",
   "metadata": {},
   "outputs": [],
   "source": [
    "#2) Itertools.permutations()\n",
    "from itertools import permutations\n",
    "char, r=input().split()\n",
    "perm=list(permutations(sorted(char),int(r)))\n",
    "\n",
    "for i in perm:\n",
    "    print(\"\".join(i))"
   ]
  },
  {
   "cell_type": "code",
   "execution_count": null,
   "id": "dietary-component",
   "metadata": {},
   "outputs": [],
   "source": [
    "#3) Itertools.combinations()\n",
    "from itertools import combinations\n",
    "seq, k=input().split()\n",
    "k=int(k)\n",
    "s1=sorted(seq)\n",
    "print(\"\\n\".join((''.join(j)) for i in range(1,k+1) for j in combinations(s1, i)))"
   ]
  },
  {
   "cell_type": "code",
   "execution_count": null,
   "id": "revised-establishment",
   "metadata": {},
   "outputs": [],
   "source": [
    "#4) Itertools.combinations_with_replacement()\n",
    "from itertools import combinations_with_replacement\n",
    "hack, k=input().split()\n",
    "for i in combinations_with_replacement(sorted(hack),int(k)):\n",
    "    print (\"\".join(i))"
   ]
  },
  {
   "cell_type": "code",
   "execution_count": null,
   "id": "worth-mapping",
   "metadata": {},
   "outputs": [],
   "source": [
    "#5) Compress the string\n",
    "from itertools import groupby\n",
    "num=input()\n",
    "for j,k in groupby(num):\n",
    "    print((len(list(k)),int(j)),end=\" \")"
   ]
  },
  {
   "cell_type": "code",
   "execution_count": null,
   "id": "suspected-confidence",
   "metadata": {},
   "outputs": [],
   "source": [
    "#6) Iterables and iterators\n",
    "from itertools import combinations\n",
    "\n",
    "N=int(input())\n",
    "N_list=input().split()\n",
    "K=int(input())\n",
    "comb=list(combinations(N_list,K))\n",
    "x=0\n",
    "for i in comb:\n",
    "    if \"a\" in i:\n",
    "        x=x+1\n",
    "print(x/len(comb))"
   ]
  }
 ],
 "metadata": {
  "kernelspec": {
   "display_name": "Python 3",
   "language": "python",
   "name": "python3"
  },
  "language_info": {
   "codemirror_mode": {
    "name": "ipython",
    "version": 3
   },
   "file_extension": ".py",
   "mimetype": "text/x-python",
   "name": "python",
   "nbconvert_exporter": "python",
   "pygments_lexer": "ipython3",
   "version": "3.6.13"
  }
 },
 "nbformat": 4,
 "nbformat_minor": 5
}
