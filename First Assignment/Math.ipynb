{
 "cells": [
  {
   "cell_type": "raw",
   "id": "welcome-tomato",
   "metadata": {},
   "source": [
    "Bioinformatics - Principles of Computer Science II\n",
    "Anastasia Sonego\n",
    "1879436\n",
    "Assignment I - Math"
   ]
  },
  {
   "cell_type": "code",
   "execution_count": 1,
   "id": "instant-mumbai",
   "metadata": {},
   "outputs": [
    {
     "name": "stdout",
     "output_type": "stream",
     "text": [
      "\n"
     ]
    },
    {
     "ename": "ValueError",
     "evalue": "complex() arg is a malformed string",
     "output_type": "error",
     "traceback": [
      "\u001b[0;31m---------------------------------------------------------------------------\u001b[0m",
      "\u001b[0;31mValueError\u001b[0m                                Traceback (most recent call last)",
      "\u001b[0;32m<ipython-input-1-8c9ae2046f3f>\u001b[0m in \u001b[0;36m<module>\u001b[0;34m\u001b[0m\n\u001b[1;32m      6\u001b[0m \u001b[0;31m#z2=z1.split('+' or '-')\u001b[0m\u001b[0;34m\u001b[0m\u001b[0;34m\u001b[0m\u001b[0;34m\u001b[0m\u001b[0m\n\u001b[1;32m      7\u001b[0m \u001b[0;31m#print (cmath.phase(complex(z2[0],z2[1])))\u001b[0m\u001b[0;34m\u001b[0m\u001b[0;34m\u001b[0m\u001b[0;34m\u001b[0m\u001b[0m\n\u001b[0;32m----> 8\u001b[0;31m \u001b[0mcomp\u001b[0m\u001b[0;34m=\u001b[0m\u001b[0mcomplex\u001b[0m\u001b[0;34m(\u001b[0m\u001b[0minput\u001b[0m\u001b[0;34m(\u001b[0m\u001b[0;34m)\u001b[0m\u001b[0;34m.\u001b[0m\u001b[0mstrip\u001b[0m\u001b[0;34m(\u001b[0m\u001b[0;34m)\u001b[0m\u001b[0;34m)\u001b[0m\u001b[0;34m\u001b[0m\u001b[0;34m\u001b[0m\u001b[0m\n\u001b[0m\u001b[1;32m      9\u001b[0m \u001b[0;34m\u001b[0m\u001b[0m\n\u001b[1;32m     10\u001b[0m \u001b[0mprint\u001b[0m\u001b[0;34m(\u001b[0m\u001b[0mcmath\u001b[0m\u001b[0;34m.\u001b[0m\u001b[0mpolar\u001b[0m\u001b[0;34m(\u001b[0m\u001b[0mcomp\u001b[0m\u001b[0;34m)\u001b[0m\u001b[0;34m[\u001b[0m\u001b[0;36m0\u001b[0m\u001b[0;34m]\u001b[0m\u001b[0;34m)\u001b[0m\u001b[0;34m\u001b[0m\u001b[0;34m\u001b[0m\u001b[0m\n",
      "\u001b[0;31mValueError\u001b[0m: complex() arg is a malformed string"
     ]
    }
   ],
   "source": [
    "#1) Polar coordinates\n",
    "# Enter your code here. Read input from STDIN. Print output to STDOUT\n",
    "\n",
    "import cmath\n",
    "#z1=z[:-1]\n",
    "#z2=z1.split('+' or '-')\n",
    "#print (cmath.phase(complex(z2[0],z2[1])))\n",
    "comp=complex(input().strip())\n",
    "\n",
    "print(cmath.polar(comp)[0])\n",
    "print(cmath.polar(comp)[1])"
   ]
  },
  {
   "cell_type": "code",
   "execution_count": null,
   "id": "fitting-roommate",
   "metadata": {},
   "outputs": [],
   "source": [
    "#2) Find angle MBC\n",
    "import math\n",
    "\n",
    "AB=int(input())\n",
    "\n",
    "BC=int(input())\n",
    "angle=str(int(round(math.degrees(math.atan2(AB,BC)))))\n",
    "print (angle+\"°\")"
   ]
  },
  {
   "cell_type": "code",
   "execution_count": null,
   "id": "standing-tulsa",
   "metadata": {},
   "outputs": [],
   "source": [
    "#3) Triangle quest 2\n",
    "for i in range(1,int(input())+1):\n",
    "    print(((10**i-1)//9)**2)"
   ]
  },
  {
   "cell_type": "code",
   "execution_count": null,
   "id": "seeing-relationship",
   "metadata": {},
   "outputs": [],
   "source": [
    "#4) Mod Divmod\n",
    "a=int(input())\n",
    "b=int(input())\n",
    "print (a//b)\n",
    "t=divmod(a,b)\n",
    "print (a-((a//b)*b))\n",
    "print (t)"
   ]
  },
  {
   "cell_type": "code",
   "execution_count": null,
   "id": "fossil-plant",
   "metadata": {},
   "outputs": [],
   "source": [
    "#5) Power - mod power\n",
    "# Enter your code here. Read input from STDIN. Print output to STDOUT\n",
    "a=int(input())\n",
    "b=int(input())\n",
    "m=int(input())\n",
    "print (pow(a,b))\n",
    "print (pow(a,b,m))"
   ]
  },
  {
   "cell_type": "code",
   "execution_count": null,
   "id": "sensitive-liberia",
   "metadata": {},
   "outputs": [],
   "source": [
    "#6) Integers come in all sizes\n",
    "a=int(input())\n",
    "b=int(input())\n",
    "c=int(input())\n",
    "d=int(input())\n",
    "\n",
    "print (pow(a,b)+pow(c,d))"
   ]
  },
  {
   "cell_type": "code",
   "execution_count": null,
   "id": "substantial-cigarette",
   "metadata": {},
   "outputs": [],
   "source": [
    "#7) Triangle quest\n",
    "for i in range(1,int(input())):\n",
    "    print((pow(10,i)//9)*i)"
   ]
  }
 ],
 "metadata": {
  "kernelspec": {
   "display_name": "Python 3",
   "language": "python",
   "name": "python3"
  },
  "language_info": {
   "codemirror_mode": {
    "name": "ipython",
    "version": 3
   },
   "file_extension": ".py",
   "mimetype": "text/x-python",
   "name": "python",
   "nbconvert_exporter": "python",
   "pygments_lexer": "ipython3",
   "version": "3.6.13"
  }
 },
 "nbformat": 4,
 "nbformat_minor": 5
}
