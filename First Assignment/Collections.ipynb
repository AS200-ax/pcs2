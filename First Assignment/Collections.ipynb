{
 "cells": [
  {
   "cell_type": "raw",
   "id": "excellent-general",
   "metadata": {},
   "source": [
    "Bioinformatics - Principles of Computer Science II\n",
    "Anastasia Sonego\n",
    "1879436\n",
    "Assignment I - Collections"
   ]
  },
  {
   "cell_type": "code",
   "execution_count": null,
   "id": "prompt-venture",
   "metadata": {},
   "outputs": [],
   "source": [
    "#1) Collections.deque()\n",
    "from collections import deque\n",
    "d=deque()\n",
    "N=int(input())\n",
    "for i in range(N):\n",
    "    method=input().split()\n",
    "    if method[0]==\"append\":\n",
    "        d.append(method[1])\n",
    "    elif method[0]==\"appendleft\":\n",
    "        d.appendleft(method[1])\n",
    "    elif method[0]==\"pop\":\n",
    "        d.pop()\n",
    "    elif method[0]==\"popleft\":\n",
    "        d.popleft()\n",
    "\n",
    "print(*d)"
   ]
  },
  {
   "cell_type": "code",
   "execution_count": null,
   "id": "fifth-tribune",
   "metadata": {},
   "outputs": [],
   "source": [
    "#2) Word order\n",
    "from collections import OrderedDict\n",
    "words=OrderedDict()\n",
    "n=int(input())\n",
    "for i in range(n):\n",
    "    word=input()\n",
    "    if not word in words.keys():\n",
    "        words.update({word:1})\n",
    "        continue\n",
    "    words[word]=words[word]+1\n",
    "print(len(words))\n",
    "print (*words.values())"
   ]
  },
  {
   "cell_type": "code",
   "execution_count": null,
   "id": "julian-shareware",
   "metadata": {},
   "outputs": [],
   "source": [
    "#3) Collections.orderedDict()\n",
    "from collections import OrderedDict\n",
    "\n",
    "N=int(input())\n",
    "elem_dict=OrderedDict()\n",
    "for i in range(N):\n",
    "    item_name,_,net_price=input().rpartition(\" \")\n",
    "    if item_name in elem_dict.keys():\n",
    "        elem_dict[item_name]=elem_dict[item_name]+int(net_price)\n",
    "    else:\n",
    "        elem_dict[item_name]=int(net_price)\n",
    "for item, price in elem_dict.items():\n",
    "    print (item, price)"
   ]
  },
  {
   "cell_type": "code",
   "execution_count": null,
   "id": "olympic-anger",
   "metadata": {},
   "outputs": [],
   "source": [
    "#4) Collections.namedTuple()\n",
    "from collections import namedtuple\n",
    "N=int(input())\n",
    "categories=input().split()\n",
    "tot=0\n",
    "for i in range(N):\n",
    "    student=namedtuple('student',categories)\n",
    "    cat1,cat2,cat3,cat4=input().split()\n",
    "    stud=student(cat1,cat2,cat3,cat4)\n",
    "    tot=int(stud.MARKS)+tot\n",
    "print('{:.2f}'.format(tot/N))"
   ]
  },
  {
   "cell_type": "code",
   "execution_count": null,
   "id": "stylish-instrumentation",
   "metadata": {},
   "outputs": [],
   "source": [
    "#5) DefaultDict Tutorial\n",
    "from collections import defaultdict\n",
    "n, m=map(int, input().split())\n",
    "d=defaultdict(list)\n",
    "lista=[]\n",
    "for i in range(0,n):\n",
    "    d[input()].append(str(i+1))\n",
    "for i in range(0,m):\n",
    "    lista=lista+[input()]\n",
    "for i in lista:\n",
    "    if i in d:\n",
    "        print(' '.join(d[i]))\n",
    "    if i not in d:\n",
    "        print (\"-1\")"
   ]
  },
  {
   "cell_type": "code",
   "execution_count": null,
   "id": "caroline-wrestling",
   "metadata": {},
   "outputs": [],
   "source": [
    "#6) Collections.counter()\n",
    "import collections\n",
    "X=int(input())\n",
    "Xshoes=collections.Counter(map(int, input().split()))\n",
    "N=int(input())\n",
    "\n",
    "money=0\n",
    "\n",
    "for i in range(N):\n",
    "    size, price=map(int, input().split())\n",
    "    if Xshoes[size]:\n",
    "        money=money+price\n",
    "        Xshoes[size]=Xshoes[size]-1\n",
    "print (money)"
   ]
  },
  {
   "cell_type": "code",
   "execution_count": null,
   "id": "controversial-diabetes",
   "metadata": {},
   "outputs": [],
   "source": [
    "#7) Company logo\n",
    "if __name__ == '__main__':\n",
    "    from collections import Counter\n",
    "    c = Counter(sorted(input()))\n",
    "    for a,b in c.most_common(3):\n",
    "        print(a,b)"
   ]
  },
  {
   "cell_type": "code",
   "execution_count": null,
   "id": "behavioral-patent",
   "metadata": {},
   "outputs": [],
   "source": [
    "#8) Piling up!\n",
    "for i in range(int(input())):\n",
    "    input()\n",
    "    inlist=[int(m) for m in input().split()]\n",
    "    \n",
    "    min_list=inlist.index(min(inlist))\n",
    "    l=inlist[:min_list]\n",
    "    r=inlist[min_list+1:]\n",
    "    if l==sorted(l,reverse=True) and r==sorted(r):\n",
    "        print(\"Yes\")\n",
    "    else:\n",
    "        print(\"No\")"
   ]
  }
 ],
 "metadata": {
  "kernelspec": {
   "display_name": "Python 3",
   "language": "python",
   "name": "python3"
  },
  "language_info": {
   "codemirror_mode": {
    "name": "ipython",
    "version": 3
   },
   "file_extension": ".py",
   "mimetype": "text/x-python",
   "name": "python",
   "nbconvert_exporter": "python",
   "pygments_lexer": "ipython3",
   "version": "3.6.13"
  }
 },
 "nbformat": 4,
 "nbformat_minor": 5
}
