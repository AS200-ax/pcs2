{
 "cells": [
  {
   "cell_type": "raw",
   "id": "clear-tribune",
   "metadata": {},
   "source": [
    "Bioinformatics - Principles of Computer Science II\n",
    "Anastasia Sonego\n",
    "1879436\n",
    "Assignement I - Sets"
   ]
  },
  {
   "cell_type": "code",
   "execution_count": 1,
   "id": "blocked-reserve",
   "metadata": {},
   "outputs": [],
   "source": [
    "#1) Introduction to sets\n",
    "def average(array):\n",
    "    return sum(set(array))/len(set(array))"
   ]
  },
  {
   "cell_type": "code",
   "execution_count": null,
   "id": "motivated-notion",
   "metadata": {},
   "outputs": [],
   "source": [
    "#2) No idea!\n",
    "N, M=input().split()\n",
    "elem=input().split()\n",
    "A=set(input().split())\n",
    "B=set(input().split())\n",
    "\n",
    "print (sum([(i in A)-(i in B) for i in elem]))"
   ]
  },
  {
   "cell_type": "code",
   "execution_count": null,
   "id": "simple-france",
   "metadata": {},
   "outputs": [],
   "source": [
    "#3) Set .add()\n",
    "# Enter your code here. Read input from STDIN. Print output to STDOUT\n",
    "s=set()\n",
    "n=input()\n",
    "for i in range(int(n)):\n",
    "    s.add(input())\n",
    "\n",
    "print (len(s))"
   ]
  },
  {
   "cell_type": "code",
   "execution_count": null,
   "id": "gorgeous-manner",
   "metadata": {},
   "outputs": [],
   "source": [
    "#4) Symmetric difference\n",
    "input()\n",
    "uno=set(map(int,(input().split())))\n",
    "\n",
    "input()\n",
    "due=set(map(int,(input().split())))\n",
    "\n",
    "output=sorted(uno^due)\n",
    "for i in output:\n",
    "    print(i)"
   ]
  },
  {
   "cell_type": "code",
   "execution_count": null,
   "id": "eleven-messaging",
   "metadata": {},
   "outputs": [],
   "source": [
    "#5) Set .discard(), .remove() & .pop()\n",
    "n = int(input())\n",
    "s = set(map(int, input().split()))\n",
    "for i in range(int(input())):\n",
    "    t=input().split()\n",
    "    if t[0]==\"pop\":\n",
    "        s.pop()\n",
    "    elif t[0]==\"remove\":\n",
    "        s.remove(int(t[1]))\n",
    "    elif t[0]==\"discard\":\n",
    "        s.discard(int(t[1]))\n",
    "print (sum(s))"
   ]
  },
  {
   "cell_type": "code",
   "execution_count": null,
   "id": "signal-casting",
   "metadata": {},
   "outputs": [],
   "source": [
    "#6) Set .union() operation\n",
    "n=int(input())\n",
    "set_n=set(input().split())\n",
    "b=int(input())\n",
    "set_b=set(input().split())\n",
    "print (len(set_n.union(set_b)))"
   ]
  },
  {
   "cell_type": "code",
   "execution_count": null,
   "id": "global-document",
   "metadata": {},
   "outputs": [],
   "source": [
    "#7) Set .intersection() operation\n",
    "n=int(input())\n",
    "set_n=set(input().split())\n",
    "b=int(input())\n",
    "set_b=set(input().split())\n",
    "print (len(set_n.intersection(set_b)))"
   ]
  },
  {
   "cell_type": "code",
   "execution_count": null,
   "id": "alone-portable",
   "metadata": {},
   "outputs": [],
   "source": [
    "#8) Set .difference() operation\n",
    "n=int(input())\n",
    "set_n=set(input().split())\n",
    "b=int(input())\n",
    "set_b=set(input().split())\n",
    "print(len(set_n.difference(set_b)))"
   ]
  },
  {
   "cell_type": "code",
   "execution_count": null,
   "id": "saved-exhaust",
   "metadata": {},
   "outputs": [],
   "source": [
    "#9) Set .symmetric_difference() operation\n",
    "n=int(input())\n",
    "set_n=set(input().split())\n",
    "b=int(input())\n",
    "set_b=set(input().split())\n",
    "print(len(set_n.symmetric_difference(set_b)))"
   ]
  },
  {
   "cell_type": "code",
   "execution_count": null,
   "id": "maritime-fifth",
   "metadata": {},
   "outputs": [],
   "source": [
    "#10) Set mutations\n",
    "numA=int(input())\n",
    "set_A=set(map(int,input().split()))\n",
    "numN= int(input())\n",
    "\n",
    "for numA in range(numN):\n",
    "    x,numA=input().split()\n",
    "    set_N=set(map(int,input().split()))\n",
    "    if(x==\"intersection_update\"):\n",
    "        set_A.intersection_update(set_N)\n",
    "    elif(x==\"update\"):\n",
    "        set_A.update(set_N)\n",
    "    elif(x==\"difference_update\"):\n",
    "        set_A.difference_update(set_N)\n",
    "    elif(x==\"symmetric_difference_update\"):\n",
    "        set_A.symmetric_difference_update(set_N)\n",
    "print(sum(set_A))"
   ]
  },
  {
   "cell_type": "code",
   "execution_count": null,
   "id": "improved-bridges",
   "metadata": {},
   "outputs": [],
   "source": [
    "#11) The captain's room\n",
    "N=int(input())\n",
    "Rooms=input().split()\n",
    "\n",
    "Rooms.sort()\n",
    "C_room=(set(Rooms[0::2])^set(Rooms[1::2]))\n",
    "print(C_room.pop())"
   ]
  },
  {
   "cell_type": "code",
   "execution_count": null,
   "id": "stretch-jewelry",
   "metadata": {},
   "outputs": [],
   "source": [
    "#12) Check subset\n",
    "for i in range(int(input())):\n",
    "    num=input()\n",
    "    x=set(input().split())\n",
    "    num=input()\n",
    "    y=set(input().split())\n",
    "    print(y.intersection(x)==x)"
   ]
  },
  {
   "cell_type": "code",
   "execution_count": null,
   "id": "rental-august",
   "metadata": {},
   "outputs": [],
   "source": [
    "#13) Check strict superset\n",
    "A=set(input().split())\n",
    "x=0\n",
    "n=int(input())\n",
    "\n",
    "for i in range(n):\n",
    "    set_n=set(input().split())\n",
    "    if A.issuperset(set_n):\n",
    "        x=x+1\n",
    "print(x==n)"
   ]
  }
 ],
 "metadata": {
  "kernelspec": {
   "display_name": "Python 3",
   "language": "python",
   "name": "python3"
  },
  "language_info": {
   "codemirror_mode": {
    "name": "ipython",
    "version": 3
   },
   "file_extension": ".py",
   "mimetype": "text/x-python",
   "name": "python",
   "nbconvert_exporter": "python",
   "pygments_lexer": "ipython3",
   "version": "3.6.13"
  }
 },
 "nbformat": 4,
 "nbformat_minor": 5
}
