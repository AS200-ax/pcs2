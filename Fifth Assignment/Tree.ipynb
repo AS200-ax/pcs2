{
 "cells": [
  {
   "cell_type": "raw",
   "id": "676eec89",
   "metadata": {},
   "source": [
    "Principles of Computer Science II - Fifth Assignment \n",
    "Anastasia Sonego - 1879436 - tree"
   ]
  },
  {
   "cell_type": "code",
   "execution_count": 2,
   "id": "2c4c04a3",
   "metadata": {},
   "outputs": [
    {
     "name": "stdout",
     "output_type": "stream",
     "text": [
      "49\n"
     ]
    }
   ],
   "source": [
    "def tree(n,lst):\n",
    "    return (n-len(lst)-1)\n",
    "\n",
    "\n",
    "data=open('rosalind_tree.txt','r').readlines()\n",
    "n=int(data[0])\n",
    "lst=data[1:]\n",
    "print(tree(n,lst))"
   ]
  },
  {
   "cell_type": "code",
   "execution_count": null,
   "id": "2a18672d",
   "metadata": {},
   "outputs": [],
   "source": []
  }
 ],
 "metadata": {
  "kernelspec": {
   "display_name": "Python 3",
   "language": "python",
   "name": "python3"
  },
  "language_info": {
   "codemirror_mode": {
    "name": "ipython",
    "version": 3
   },
   "file_extension": ".py",
   "mimetype": "text/x-python",
   "name": "python",
   "nbconvert_exporter": "python",
   "pygments_lexer": "ipython3",
   "version": "3.7.9"
  }
 },
 "nbformat": 4,
 "nbformat_minor": 5
}
