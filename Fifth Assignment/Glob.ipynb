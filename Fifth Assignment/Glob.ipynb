{
 "cells": [
  {
   "cell_type": "raw",
   "id": "5be2e144",
   "metadata": {},
    "source": [
    "Principles of Computer Science II - Fifth Assignment\n",
    "Anastasia Sonego - 1879436 - glob"
   ]
  },
  {
   "cell_type": "code",
   "execution_count": 1,
   "id": "e2dc4b4c",
   "metadata": {},
   "outputs": [
    {
     "name": "stdout",
     "output_type": "stream",
     "text": [
      "GISMHPTLAKARRKLIKME----K-N---HWLETYTTDHIEDPHEQRKEATAFHFQDPDDREY---D--H----W--DDD-FTMVYA-G-----LELMHPMSEGVIIWMWEEETPVAEEHAPFFMREMDADC--LVSWENFWS-IF--P---D-CTTCWFM---M----K-ATIMWIV---K---KIGE-T-KEQDTKQLLRLTSVSHMFNHIRMD--C--D--N--EYCICWWMSFNGSLYQMQFWKDSAAMIMTKYSSEFSSRGHSSLF-FYRVGPNRQSQWPYAMRLKYG-F-TD----GHRQTPRIVSLIYWGLDACGDCDFSYIRPQR-RICF-RCPGWILGKAKQKGTDF-IFCRQFASRDYKRSQLGQACNQICYYGE-CHKMFEEQGIKIYDGARMQALTSNPKEDTL--D----IPV-GMF----LSVMDCQWNKDNQMFCVSCSYY-HQPVEPIHGQGYLDF-K--EDFWPCIVHTIHQEWKKFVHCKNHNRCHRNTFVFKVENNRSHHHRETYDFACQDNSMYKTCIWGTPWAMNGVNHCVTTCQFISGFMTSSGYLTNGHNPYCPECLMSYQS-MECSRHY-HRANFHVFCMMTIWTYKNWLSYFQDDPQRQQLKLSGIEPNWIHTDFTWMHQGWIGLEPQKLPAYYNWYDAHSF-CVDRHTGRSWSSIAQDVHVC-Q-IMVTRMEYMQDAIDIRMSHLTHCYHLVPALKQRSGMVGIFEHLCAEYGSWFPKFVLEYQQHVRKIVQVVPDPRTVGCSC-CRY-VP-WFMHCICCDDNKVAEYEGQGMCFQHRGNIR--QVRIVLQPCQVILHAFTIMYVFFEFHSLFISAINRQMWALALIVLDWMWICELHSYGCHYFDGFSHPSQMGKALLSDQYNNVSTSMRCCTKCLIASFKPTWRFAHVYDYKWRDNIYNN---T-GPRIFMRI\n",
      "|||||||||||||||||||    . .   ||||||||.|||||.|||||||||||.|.||.||   .  |    .  ||| .||||| .     |||||||||||||.|.|.||     ||||||||||||.  |.......| ||  .   | |||||||   |    . |.|||.|   .   |||| . |.|||||||.||||||||||||||  |  .  .  |||||||||||.|||||||.|||..|||.| .... ||..||.. |.|||||.||  ....||||| | ||    |||||||||||||||||||||||||||||.. .... |... |.....||||.. ......|||||| ..... ... ...|. |..||||.|.|||||||||..| |....|.  .    ||| ..|    |||||.|||||||||||.|||| .||||||||||.||| .  ||.|.|||||||||.||||||    |.   |  ||||        ||||||||    .  ..||.. ...|. | . ||.  .   |||.|||    ||||||||.||. .|..... ..|||||||||||...||||||.|||||||||.|||.||||| ....| ..|.............. ....|| ||||||||||.||||||||| | |.|||||.||||||||||||.. . ....|||.||||||||||     ||||||.| |||||||||.||||||||.||. ... .| ||||.||.|||    |||||.||||||||.  ||.|||||.| .|||||||||||||||||||| |||||||.|.||.||||       | |||.|     | ..||||.....||..|  .||||   |||||||||.|||||.|||||   . ||||||||\n",
      "GISMHPTLAKARRKLIKMESAWAEWQTILHWLETYTTWHIEDPLEQRKEATAFHFTDVDDCEYALMNYFHKENGMSTDDDDATMVYACAFCMHDLELMHPMSEGVIIGMMEFET-----HAPFFMREMDADPGRLNDAKACRSSIFVHKEIIDSCTTCWFMFEHMQWYHRHAYIMWAVETYRHCSKIGEGNPKYQDTKQLLCLTSVSHMFNHIRMDARCFHEMISDFEYCICWWMSFNLSLYQMQFGKDSFSMIMKK-DTKY-SREFSSWYMFIRVGPNNQS--THQDRLKYGTFWTDCFTDGHRQTPRIVSLIYWGLDACGDCDFSYIRPDFWEVPVQRTQS-ICFRCPQKGTESNMGTLWIASRDYK-VYINM-LSR-SQLGSACNQMFEECGKKIYDGARMQTCT-NMRDETMTSNPKLGIPVYHYFAKWRLSVMDMQWNKDNQMFCVYCSYYAQQPVEPIHGQGCLDFPEGQEDSWQCIVHTIHQEMKKFVHC----RV---T--FKVE--------ETYDFACQ----W--AMWGVV-HISGF-H-Y-TCD--D---TSSCYLT----PYCPECLMNYQPYQETYDYWENQANFHVFCMMTIPLLKNWLSYVQDDPQRQQLWLSGFEPNWI-PQLRW-NRGKVCKDESQMHDDAH-SETESFSCVDRHTGRSWRSIAQDVHVCCQYIQVTRMEMMQDAIDIRMSHLLK-F-MAQHLKQFSGMVGIFEHL-----SWFPKFRL-YQQHVRKIVTVVPDPRTVSCSIGLKLQAPTWFMHDICQDDN----YEGQGWCFQHRGNISPLQVHIVLQPKQ-LLHAFTIMYVFFEFHSLFISA-NRQMWALHLFVLKWMWI-------C-YFDWF-----M-DYLLSDDSKGTSTILR--MKCLI---KPTWRFAHVHDYKWRYNIYNNQWLSLGPRIFMRI\n",
      "  Score=2051\n",
      "\n"
     ]
    }
   ],
   "source": [
    "from Bio import pairwise2\n",
    "from Bio import SeqIO\n",
    "from Bio.SubsMat.MatrixInfo import blosum62\n",
    "\n",
    "def glob(a,b):\n",
    "    res = pairwise2.align.globalds(a, b, blosum62, -5, -5)\n",
    "    print(pairwise2.format_alignment(*res[0]))\n",
    "    \n",
    "a=list(SeqIO.parse(\"rosalind_glob.txt\",\"fasta\"))[0].seq\n",
    "b=list(SeqIO.parse(\"rosalind_glob.txt\",\"fasta\"))[1].seq\n",
    "glob(a,b)"
   ]
  }
 ],
 "metadata": {
  "kernelspec": {
   "display_name": "Python 3",
   "language": "python",
   "name": "python3"
  },
  "language_info": {
   "codemirror_mode": {
    "name": "ipython",
    "version": 3
   },
   "file_extension": ".py",
   "mimetype": "text/x-python",
   "name": "python",
   "nbconvert_exporter": "python",
   "pygments_lexer": "ipython3",
   "version": "3.7.9"
  }
 },
 "nbformat": 4,
 "nbformat_minor": 5
}
