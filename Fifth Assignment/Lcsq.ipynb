{
 "cells": [
  {
   "cell_type": "raw",
   "id": "27b8a120",
   "metadata": {},
   "source": [
    "Principles of Computer Science II - Fifth Assignment\n",
    "Anastasia Sonego - 1879436 - lcsq"
   ]
  },
  {
   "cell_type": "code",
   "execution_count": 18,
   "id": "81fc2344",
   "metadata": {},
   "outputs": [
    {
     "name": "stdout",
     "output_type": "stream",
     "text": [
      "CTCCTCGCCCCAGTTCGACAGCTTTCATACATGCCACGGTGAAGAAAGATGGTCAACGCCAGTAATTTCAAAGTCACAGGACTAAGTTCCGGGCTTCCTGATACTTTCCATGATATAGACTCAAAGGAACTCCTGGTGAACAGTACTCAGTCGGATGGAGAACGCCTCTATTCAAATCCCAGTGAATTAGTCCAAATGGGGATTAAAATTCGAAATCTATCCGAGCCGTGCGAGCATGGTCGGTTAGGGAGCATACCTGCCATTGGTTGTAGTATTGCACCCTAGTAACCCTACGACACCCCGTAATAGGGTTCACATTTGTTTATGCCCCGCCCCCGCTATGACCACGAGGGTATGACACTCTCCGCAGATGCTTAGGCCACCATGTAGAGGCTACCGGAAACGAAATCGCCTCGATTCGTTGGTGGCCCCGGACCCCAAACAGGTGGCTCAATGCGCCTCGACGAATACCTCCTGTTCGCTAAGATTTCGGTGAGGCCACGTCGTTGCTCGACTCGATCCCCCCAGGAGTTCTCTCGAATTCAGGAACATTGGCTGACACAATGAGGCCCGGGACT\n"
     ]
    }
   ],
   "source": [
    "from itertools import combinations\n",
    "from Bio import SeqIO\n",
    "import numpy\n",
    "\n",
    "def lcsq(s1,s2):\n",
    "    matrix=numpy.zeros((len(s1)+1,len(s2)+1))\n",
    "    for i,m in enumerate(s1):\n",
    "        for j,n in enumerate(s2):\n",
    "            if m==n:\n",
    "                matrix[i+1][j+1]=matrix[i][j]+1\n",
    "            else:\n",
    "                matrix[i+1][j+1]=max(matrix[i+1][j],matrix[i][j+1])\n",
    "\n",
    "    x,y=len(s1),len(s2)\n",
    "    s=''\n",
    "    while x*y!=0:\n",
    "        if matrix[x][y]==matrix[x][y-1]:\n",
    "            y-=1\n",
    "        elif matrix[x][y]==matrix[x-1][y]:\n",
    "            x-=1\n",
    "        else:\n",
    "            s += s1[x-1]\n",
    "            x-=1\n",
    "            y-=1\n",
    "    print(s[::-1])\n",
    "\n",
    "s1=list(SeqIO.parse(\"rosalind_lcsq.txt\",\"fasta\"))[0].seq\n",
    "s2=list(SeqIO.parse(\"rosalind_lcsq.txt\",\"fasta\"))[1].seq\n",
    "lcsq(s1, s2)"
   ]
  },
  {
   "cell_type": "code",
   "execution_count": null,
   "id": "95a2add2",
   "metadata": {},
   "outputs": [],
   "source": []
  }
 ],
 "metadata": {
  "kernelspec": {
   "display_name": "Python 3",
   "language": "python",
   "name": "python3"
  },
  "language_info": {
   "codemirror_mode": {
    "name": "ipython",
    "version": 3
   },
   "file_extension": ".py",
   "mimetype": "text/x-python",
   "name": "python",
   "nbconvert_exporter": "python",
   "pygments_lexer": "ipython3",
   "version": "3.7.9"
  }
 },
 "nbformat": 4,
 "nbformat_minor": 5
}
