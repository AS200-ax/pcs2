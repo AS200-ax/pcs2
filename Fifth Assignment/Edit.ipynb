{
 "cells": [
  {
   "cell_type": "raw",
   "id": "cfec4a34",
   "metadata": {},
   "source": [
    "Principles of Computer Science II - Fifth Assignment\n",
    "Anastasia Sonego - 1879436 - edit"
   ]
  },
  {
   "cell_type": "code",
   "execution_count": 6,
   "id": "8b94398f",
   "metadata": {},
   "outputs": [
    {
     "name": "stdout",
     "output_type": "stream",
     "text": [
      "297\n"
     ]
    }
   ],
   "source": [
    "from Bio import SeqIO\n",
    "import editdistance\n",
    "\n",
    "def edit(a,b):\n",
    "    alignments = editdistance.eval(a,b)\n",
    "    print(alignments)\n",
    "\n",
    "\n",
    "data=list(SeqIO.parse(\"rosalind_edit.txt\",\"fasta\"))\n",
    "a=data[0].seq\n",
    "b=data[1].seq\n",
    "edit(a,b)"
   ]
  },
  {
   "cell_type": "code",
   "execution_count": null,
   "id": "64d03099",
   "metadata": {},
   "outputs": [],
   "source": []
  },
  {
   "cell_type": "code",
   "execution_count": null,
   "id": "672eca3e",
   "metadata": {},
   "outputs": [],
   "source": []
  }
 ],
 "metadata": {
  "kernelspec": {
   "display_name": "Python 3",
   "language": "python",
   "name": "python3"
  },
  "language_info": {
   "codemirror_mode": {
    "name": "ipython",
    "version": 3
   },
   "file_extension": ".py",
   "mimetype": "text/x-python",
   "name": "python",
   "nbconvert_exporter": "python",
   "pygments_lexer": "ipython3",
   "version": "3.7.9"
  }
 },
 "nbformat": 4,
 "nbformat_minor": 5
}
