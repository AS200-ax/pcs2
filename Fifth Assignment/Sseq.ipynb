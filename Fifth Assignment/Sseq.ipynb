{
 "cells": [
  {
   "cell_type": "raw",
   "id": "99a5e5c8",
   "metadata": {},
   "source": [
    "Principles of Computer Science II - Fifth Assignment\n",
    "Anastasia Sonego - 1879436 - sseq"
   ]
  },
  {
   "cell_type": "code",
   "execution_count": 1,
   "id": "f5f9680a",
   "metadata": {},
   "outputs": [
    {
     "name": "stdout",
     "output_type": "stream",
     "text": [
      "1 8 9 10 12 13 14 16 18 21 25 31 35 40 41 42 43 44 49 55 58 59 62 64 68 77 81 83 90 95 100 106 111 113 120 125 127 133 136 142 148 "
     ]
    }
   ],
   "source": [
    "from Bio import SeqIO\n",
    "\n",
    "def sseq(s,t):\n",
    "    x=0\n",
    "    for i in t:\n",
    "        y=s.find(i,x)\n",
    "        x=y+1\n",
    "        print(x,end=' ')\n",
    "\n",
    "data=list(SeqIO.parse(\"rosalind_sseq.txt\", \"fasta\"))\n",
    "s=data[0].seq\n",
    "t=data[1].seq\n",
    "sseq(s,t)\n",
    "\n"
   ]
  },
  {
   "cell_type": "code",
   "execution_count": null,
   "id": "a00a7c6e",
   "metadata": {},
   "outputs": [],
   "source": []
  }
 ],
 "metadata": {
  "kernelspec": {
   "display_name": "Python 3",
   "language": "python",
   "name": "python3"
  },
  "language_info": {
   "codemirror_mode": {
    "name": "ipython",
    "version": 3
   },
   "file_extension": ".py",
   "mimetype": "text/x-python",
   "name": "python",
   "nbconvert_exporter": "python",
   "pygments_lexer": "ipython3",
   "version": "3.7.9"
  }
 },
 "nbformat": 4,
 "nbformat_minor": 5
}
