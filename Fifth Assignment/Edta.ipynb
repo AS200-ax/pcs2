{
 "cells": [
  {
   "cell_type": "raw",
   "id": "1ae44feb",
   "metadata": {},
   "source": [
    "Principles of Computer Science II - Fifth Assignment\n",
    "Anastasia Sonego - 1879436 - edta"
   ]
  },
  {
   "cell_type": "code",
   "execution_count": 39,
   "id": "8246db2c",
   "metadata": {},
   "outputs": [
    {
     "name": "stdout",
     "output_type": "stream",
     "text": [
      "421\n",
      "AK---------VWSME--LC------RLDEPSQWED-A-G----M---DREDREYMWGNRKHFRQPRKSILNTYSTIVHACEHHMCADQYLIRDFHKLWVYHVQHTW-------MA-IQW-PTRVASGSQSMLNQILTAADRCVGAKPQYRLMYKICTSLFKHEKGHEGRHNPALV-P-ENIFNPNQAMCQHQCNYEFEEWDEGSNCYWLAYAPDDSTISKNCMIKVAGSINIISCYMFMFLYLPHM-RGAIHMHAG--HFI---VIE-LWTSIHKAD-TLY--GLQWVGYEYSQDMMDWFDFPWPQESISFMQAGVIFHNFEKLSDVEVRKSAKYFFRPEVWRKMKCIDLYDNQRIATDEWCATAESPSGDLCEKHGCALGDQSSRRIRCSSMYKYPPWKLLCH---L------PQSMSYGYMK-----DQ--GFEEFPAYRMGFRAGNQHSRICLSFAYKIWM--------HFMVWEI-DGHFGVSNLEPHHFVCSMNITSEKW-FAFHMEMDSDIIGPFHAELLFLLDWSFWPINIMLTPDWYYITFQPHLL------LLNDHMYDALVSYMERNYWQAIVY----EAIHWDPDFVPSRLAIHRM---HCDMEKSLCMAKTQKFCGHYFESRDT------NRQQMYRNQIG--H--QTSGNNRKGYRESILCVCGTFCVWD-CICQQAHENRRKFS-----MREA--WKMRGHT--VNHNMQGVTEMDVPGSQWKDIWIILRMITWHQIA-MIARWRHHYGHFADHANTTIVNGTICYSVEIRPVHCSHEGKFETEHVKCEAMFPYHEDQKGVLSYMDVRVLRLRAMRQYYHYYK-MCTITVGSPQGEIFCQYPVHHGSGNDIATMRVQIQWGRRMFHHGRCIWLHSKATCRCDNSWWQRKRREWGGIRQWADFFHQKSIHMCDFQREMMEREHMFSWC-KCCETHMWPKGITIVTAIHVHKGKQMTYPRQSWESPWLPWIPKDP----KAV \n",
      " AKRAKQRQHNLMNSMEGVRCFCYDMCRLD-TSQWEDDAPGEQGGMGKMGREDREYMCGNRKHFRRPQMPI-FPKSILNTACEHHCWADQYLIRDFHKLWVYHVQHTWPHVFSTIYAFVFWTPTRVASGSPSYLNGGVHLTDR---A---NR---NDLTSAFKHEPGHEGRTNPALVNPNQYCKTGMSDMCQHQCNYENEEWDEGS---GLAYAPDDSTIWDKPLEYACGSI---SCYMFMF--AIHMSWFQWHLKEGMFHFIMQRWHEREKTSIHKADVYLYSWALQ-LGNHLS--VGYSQD----DESISFMQAGVIFLTFEKLSDVEVRKSAPYFHRPRVARSMHCIDLYDNQRIATDEWCATAESPSGDLCEKH------IRCRLELCYSMYKGPPWKLLCHVHPLVMRTFYENSMSYGYFKQLVFETQVQGFEEGPAYR----AGNQHSRI---FAYKIWMEMWPSDQLDFFVWEIGTRMKDISNLECHHFVC----TPEKWGQNISWTQGFRMTGPFEAELLF---W---PILIMLTPDWYYITFQPHLLNICHKPPLNDGMYD-LVSYMRRNWWQAIVYNGRWFKIHWDPDFVPSRLAIHRMWPYWCDMEKSLCKALTQKFCGHYFESRDTLICKEAMGQQMYRNQIGWQHLPFTSGNNRKGYRESILKVC---PPWDNNIFAMEHENRRKFSEPGDSLREAQYWKMRGHTLWWMVCMQGVTTMDVPGSQRKGYWIILRMITWHQAAGNIAWWRHHYG-------T------HCYSVE----FC----VPVTEHVK-E-------DQKGV----FTR-IKCRAMRQYYHYYKPPVPHTQG--ACHIFCQYPVPFGS----ATMRVQIQWGRRMFH--------EKATCRGDNSWWQRYRREIGGIRQWADFFHQKSPDMCDFQR--GHYHVMFSWCLKC-ETHMWPKGITIMWA----MG-QMMYP-Q--ESPWLPWIPWDPHWNDLAV\n"
     ]
    }
   ],
   "source": [
    "from Bio import SeqIO\n",
    "import editdistance\n",
    "import edit_distance\n",
    "import numpy\n",
    "\n",
    "def edit(a,b):\n",
    "    alignments=editdistance.eval(a,b)\n",
    "    print(alignments)\n",
    "\n",
    "def edta(a,b):\n",
    "    ala,alb = '',''\n",
    "    a1,b1=len(a)+1,len(b)+1\n",
    "    mat=numpy.zeros((a1,b1))\n",
    "    \n",
    "    for i in range(a1):\n",
    "        for j in range(b1):\n",
    "            if i==0: mat[i][j]=j\n",
    "            elif j==0: mat[i][j]=i\n",
    "            elif a[i-1]==b[j-1]: mat[i][j]=mat[i-1][j-1]\n",
    "            else: mat[i][j]=1+min(mat[i][j-1],mat[i-1][j],mat[i-1][j-1])\n",
    "    \n",
    "    r,c=len(mat)-1,len(mat[0])-1\n",
    "    while r!=0 and c!=0:\n",
    "        if min(mat[r-1][c-1],mat[r-1][c],mat[r][c-1])==mat[r-1][c-1]:\n",
    "            ala+=a[r-1]\n",
    "            alb+=b[c-1]\n",
    "            r,c=r-1,c-1\n",
    "        elif mat[r][c]==mat[r-1][c]+1:\n",
    "            ala+=a[r-1]\n",
    "            alb+='-'\n",
    "            r-=1\n",
    "        else:\n",
    "            alb+=b[c-1]\n",
    "            ala+='-'\n",
    "            c-=1\n",
    "    print(ala[::-1],\"\\n\",alb[::-1])\n",
    "    \n",
    "a=list(SeqIO.parse(\"rosalind_edta.txt\",\"fasta\"))[0].seq\n",
    "b=list(SeqIO.parse(\"rosalind_edta.txt\",\"fasta\"))[1].seq\n",
    "edit(a,b)\n",
    "edta(a,b)"
   ]
  },
  {
   "cell_type": "code",
   "execution_count": null,
   "id": "fd6e6a53",
   "metadata": {},
   "outputs": [],
   "source": []
  },
  {
   "cell_type": "code",
   "execution_count": null,
   "id": "e3316800",
   "metadata": {},
   "outputs": [],
   "source": []
  }
 ],
 "metadata": {
  "kernelspec": {
   "display_name": "Python 3",
   "language": "python",
   "name": "python3"
  },
  "language_info": {
   "codemirror_mode": {
    "name": "ipython",
    "version": 3
   },
   "file_extension": ".py",
   "mimetype": "text/x-python",
   "name": "python",
   "nbconvert_exporter": "python",
   "pygments_lexer": "ipython3",
   "version": "3.7.9"
  }
 },
 "nbformat": 4,
 "nbformat_minor": 5
}
