{
 "cells": [
  {
   "cell_type": "raw",
   "id": "89c0ea35",
   "metadata": {},
   "source": [
    "Principles of Computer Science II - Fifth Assignment\n",
    "Anastasia Sonego - 1879436 - mult"
   ]
  },
  {
   "cell_type": "code",
   "execution_count": 6,
   "id": "33d4616f",
   "metadata": {},
   "outputs": [
    {
     "name": "stdout",
     "output_type": "stream",
     "text": [
      "TATCCG \n",
      " T--CCG\n",
      "ATAT-CCG \n",
      " ATGTACTG\n",
      "ATATCCG \n",
      " ATGTCTG\n",
      "T---CCG \n",
      " TGTACTG\n",
      "T--CCG \n",
      " TGTCTG\n",
      "ATGTACTG \n",
      " ATGT-CTG\n"
     ]
    },
    {
     "data": {
      "text/plain": [
       "'ATGT-CTG'"
      ]
     },
     "execution_count": 6,
     "metadata": {},
     "output_type": "execute_result"
    }
   ],
   "source": [
    "from Bio import SeqIO\n",
    "import numpy\n",
    "\n",
    "def edta(a,b):\n",
    "    ala,alb = '',''\n",
    "    a1,b1=len(a)+1,len(b)+1\n",
    "    mat=numpy.zeros((a1,b1))\n",
    "    \n",
    "    for i in range(a1):\n",
    "        for j in range(b1):\n",
    "            if i==0: mat[i][j]=j\n",
    "            elif j==0: mat[i][j]=i\n",
    "            elif a[i-1]==b[j-1]: mat[i][j]=mat[i-1][j-1]\n",
    "            else: mat[i][j]=1+min(mat[i][j-1],mat[i-1][j],mat[i-1][j-1])\n",
    "    \n",
    "    r,c=len(mat)-1,len(mat[0])-1\n",
    "    while r!=0 and c!=0:\n",
    "        if min(mat[r-1][c-1],mat[r-1][c],mat[r][c-1])==mat[r-1][c-1]:\n",
    "            ala+=a[r-1]\n",
    "            alb+=b[c-1]\n",
    "            r,c=r-1,c-1\n",
    "        elif mat[r][c]==mat[r-1][c]+1:\n",
    "            ala+=a[r-1]\n",
    "            alb+='-'\n",
    "            r-=1\n",
    "        else:\n",
    "            alb+=b[c-1]\n",
    "            ala+='-'\n",
    "            c-=1\n",
    "    print(ala[::-1],\"\\n\",alb[::-1])\n",
    "    return alb[::-1]\n",
    "    \n",
    "    \n",
    "a=\"ATATCCG\"\n",
    "b=\"TCCG\"\n",
    "c=\"ATGTACTG\"\n",
    "d=\"ATGTCTG\"\n",
    "#a=list(SeqIO.parse(\"rosalind_edta.txt\",\"fasta\"))[0].seq\n",
    "#b=list(SeqIO.parse(\"rosalind_edta.txt\",\"fasta\"))[1].seq\n",
    "edta(a,b)\n",
    "edta(a,c)\n",
    "edta(a,d)\n",
    "edta(b,c)\n",
    "edta(b,d)\n",
    "edta(c,d)\n"
   ]
  }
 ],
 "metadata": {
  "kernelspec": {
   "display_name": "Python 3",
   "language": "python",
   "name": "python3"
  },
  "language_info": {
   "codemirror_mode": {
    "name": "ipython",
    "version": 3
   },
   "file_extension": ".py",
   "mimetype": "text/x-python",
   "name": "python",
   "nbconvert_exporter": "python",
   "pygments_lexer": "ipython3",
   "version": "3.7.9"
  }
 },
 "nbformat": 4,
 "nbformat_minor": 5
}
