{
 "cells": [
  {
   "cell_type": "raw",
   "id": "cc57cbd0",
   "metadata": {},
   "source": [
    "Principles of Computer Science II - Fifth Assignment\n",
    "Anastasia Sonego - 1879436 - inod"
   ]
  },
  {
   "cell_type": "code",
   "execution_count": 1,
   "id": "92cbfa3c",
   "metadata": {},
   "outputs": [
    {
     "name": "stdout",
     "output_type": "stream",
     "text": [
      "7213\n"
     ]
    }
   ],
   "source": [
    "def inod(n):\n",
    "    return(n-2)\n",
    "\n",
    "print(inod(7215))"
   ]
  },
  {
   "cell_type": "code",
   "execution_count": null,
   "id": "ef5f6c02",
   "metadata": {},
   "outputs": [],
   "source": []
  }
 ],
 "metadata": {
  "kernelspec": {
   "display_name": "Python 3",
   "language": "python",
   "name": "python3"
  },
  "language_info": {
   "codemirror_mode": {
    "name": "ipython",
    "version": 3
   },
   "file_extension": ".py",
   "mimetype": "text/x-python",
   "name": "python",
   "nbconvert_exporter": "python",
   "pygments_lexer": "ipython3",
   "version": "3.7.9"
  }
 },
 "nbformat": 4,
 "nbformat_minor": 5
}
