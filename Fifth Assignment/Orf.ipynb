{
 "cells": [
  {
   "cell_type": "raw",
   "id": "74e14ff5",
   "metadata": {},
   "source": [
    "Principles of Computer Science II - Fifth Assignment\n",
    "Anastasia Sonego - 1879436 - orf"
   ]
  },
  {
   "cell_type": "code",
   "execution_count": 10,
   "id": "43a11d81",
   "metadata": {},
   "outputs": [
    {
     "name": "stdout",
     "output_type": "stream",
     "text": [
      "MTRGKTIYTSRS\n",
      "MTGWLSRVSLII\n",
      "MPGGQTSVIVRSTHSCASSAVVNRASLSMGADKSQPAAAIFSFFVD\n",
      "MKRLSPHKKVEGLNRRLETRL\n",
      "MHASKVRSFRI\n",
      "MPD\n",
      "MRGPYDH\n",
      "MDSWLVDKERKDSGGRLGLVGTHG\n",
      "MGADKSQPAAAIFSFFVD\n",
      "MDKDARLTTAELAQLCVDLTITDV\n",
      "MD\n",
      "MQVSGGKPWNVKITMD\n",
      "MIRLTRDNQPVISEPGL\n",
      "MSIRRSFATFAAG\n",
      "MSEKCLFDGASQRLQPGNC\n",
      "M\n",
      "MRLPIRLRIAQGLYICLILVN\n",
      "MYRP\n",
      "MVRRTLQKIRSAGGRVLLDDQADPR\n",
      "MCK\n"
     ]
    }
   ],
   "source": [
    "from Bio import SeqIO\n",
    "from Bio.Seq import Seq\n",
    "stop=[\"TAA\",\"TAG\",\"TGA\"]\n",
    "start=\"ATG\"\n",
    "\n",
    "def orf(sequence,comp):\n",
    "    p=[]\n",
    "    while start in sequence:\n",
    "        sequence=sequence[sequence.find(start):]\n",
    "        for j in stop:\n",
    "            for i in range(0,len(sequence),3):\n",
    "                if sequence[i:i+3] ==j:\n",
    "                    s1=sequence[:i]\n",
    "                    p.append(s1.translate(to_stop = True))\n",
    "        sequence=sequence[1:]\n",
    "    \n",
    "    while start in comp:\n",
    "        comp=comp[comp.find(start):]\n",
    "        for j in stop:\n",
    "            for i in range(0,len(comp),3):\n",
    "                if comp[i:i+3] ==j:\n",
    "                    s1=comp[:i]\n",
    "                    p.append(s1.translate(to_stop = True))\n",
    "        comp=comp[1:]\n",
    "    \n",
    "    for i in set(p):\n",
    "        print (i)\n",
    "\n",
    "data=list(SeqIO.parse(\"rosalind_orf.txt\", \"fasta\"))[0]\n",
    "sequence=data.seq\n",
    "comp=Seq.reverse_complement(data.seq)\n",
    "\n",
    "\n",
    "orf(sequence,comp)"
   ]
  },
  {
   "cell_type": "code",
   "execution_count": null,
   "id": "143b1fca",
   "metadata": {},
   "outputs": [],
   "source": []
  },
  {
   "cell_type": "code",
   "execution_count": null,
   "id": "a7a1d518",
   "metadata": {},
   "outputs": [],
   "source": []
  }
 ],
 "metadata": {
  "kernelspec": {
   "display_name": "Python 3",
   "language": "python",
   "name": "python3"
  },
  "language_info": {
   "codemirror_mode": {
    "name": "ipython",
    "version": 3
   },
   "file_extension": ".py",
   "mimetype": "text/x-python",
   "name": "python",
   "nbconvert_exporter": "python",
   "pygments_lexer": "ipython3",
   "version": "3.7.9"
  }
 },
 "nbformat": 4,
 "nbformat_minor": 5
}
