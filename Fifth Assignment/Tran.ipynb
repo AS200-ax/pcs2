{
 "cells": [
  {
   "cell_type": "raw",
   "id": "2f57f8f6",
   "metadata": {},
   "source": [
    "Principles of Computer Science II - Fifth Assignment\n",
    "Anastasia Sonego 1879436 - tran"
   ]
  },
  {
   "cell_type": "code",
   "execution_count": 5,
   "id": "88040220",
   "metadata": {},
   "outputs": [],
   "source": [
    "transitions=[['A','G'],['C','T']]\n",
    "transversions=[['A','C'],['A','T'],['C','G'],['G','T']]\n",
    "\n",
    "def trans(s1,s2):\n",
    "    ti,tv=0,0\n",
    "    for x in range(len(s1)):\n",
    "        if s1[x]!=s2[x]:\n",
    "            if sorted([s1[x],s2[x]]) in transitions:\n",
    "                ti+=1\n",
    "            elif sorted([s1[x],s2[x]]) in transversions:\n",
    "                tv+=1\n",
    "    return(ti/tv)"
   ]
  },
  {
   "cell_type": "code",
   "execution_count": 6,
   "id": "f2a10c1a",
   "metadata": {},
   "outputs": [
    {
     "name": "stdout",
     "output_type": "stream",
     "text": [
      "1.7647058823529411\n"
     ]
    }
   ],
   "source": [
    "data=open('rosalind_tran.txt','r').read().split('>')[1:]\n",
    "s1=data[0].split('\\n',1)[1].replace('\\n','')\n",
    "s2=data[1].split('\\n',1)[1].replace('\\n','')\n",
    "print(trans(s1, s2))"
   ]
  },
  {
   "cell_type": "code",
   "execution_count": null,
   "id": "d273ef13",
   "metadata": {},
   "outputs": [],
   "source": []
  }
 ],
 "metadata": {
  "kernelspec": {
   "display_name": "Python 3",
   "language": "python",
   "name": "python3"
  },
  "language_info": {
   "codemirror_mode": {
    "name": "ipython",
    "version": 3
   },
   "file_extension": ".py",
   "mimetype": "text/x-python",
   "name": "python",
   "nbconvert_exporter": "python",
   "pygments_lexer": "ipython3",
   "version": "3.7.9"
  }
 },
 "nbformat": 4,
 "nbformat_minor": 5
}
